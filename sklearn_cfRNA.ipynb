{
 "cells": [
  {
   "cell_type": "markdown",
   "id": "0cb90971-ca81-4026-bae7-30c58d02699a",
   "metadata": {},
   "source": [
    "### import"
   ]
  },
  {
   "cell_type": "code",
   "execution_count": 1,
   "id": "74cffc9a-8796-4e59-8a61-7d7486afa6e8",
   "metadata": {
    "execution": {
     "iopub.execute_input": "2024-06-22T14:06:12.857639Z",
     "iopub.status.busy": "2024-06-22T14:06:12.857050Z",
     "iopub.status.idle": "2024-06-22T14:06:30.352879Z",
     "shell.execute_reply": "2024-06-22T14:06:30.351629Z",
     "shell.execute_reply.started": "2024-06-22T14:06:12.857484Z"
    },
    "tags": []
   },
   "outputs": [],
   "source": [
    "import os\n",
    "\n",
    "import matplotlib.pyplot as plt\n",
    "import numpy as np\n",
    "import pandas as pd\n",
    "from scipy import interp\n",
    "from sklearn import svm\n",
    "from sklearn.datasets import load_iris, make_classification, make_regression\n",
    "from sklearn.ensemble import RandomForestClassifier\n",
    "from sklearn.feature_selection import RFECV\n",
    "from sklearn.linear_model import Lasso, LogisticRegression\n",
    "from sklearn.metrics import (\n",
    "    accuracy_score,\n",
    "    auc,\n",
    "    classification_report,\n",
    "    confusion_matrix,\n",
    "    mean_squared_error,\n",
    "    roc_auc_score,\n",
    "    roc_curve,\n",
    ")\n",
    "from sklearn.model_selection import (\n",
    "    GridSearchCV,\n",
    "    KFold,\n",
    "    StratifiedKFold,\n",
    "    cross_val_predict,\n",
    "    cross_val_score,\n",
    "    cross_validate,\n",
    "    train_test_split,\n",
    ")\n",
    "from sklearn.multiclass import OneVsRestClassifier\n",
    "from sklearn.preprocessing import StandardScaler, label_binarize\n",
    "from sklearn.svm import SVC\n",
    "from sklearn.tree import DecisionTreeClassifier\n",
    "\n",
    "os.chdir(\"/data3/wuli/proj/wuli/cfRNA/brain/01_bulk/figure\")"
   ]
  },
  {
   "cell_type": "code",
   "execution_count": null,
   "id": "c4ecbd5d-4e05-4d48-980f-9ae982009804",
   "metadata": {
    "execution": {
     "iopub.execute_input": "2024-06-22T14:08:19.500576Z",
     "iopub.status.busy": "2024-06-22T14:08:19.500090Z",
     "iopub.status.idle": "2024-06-22T14:08:19.591858Z",
     "shell.execute_reply": "2024-06-22T14:08:19.591212Z",
     "shell.execute_reply.started": "2024-06-22T14:08:19.500530Z"
    },
    "tags": []
   },
   "outputs": [
    {
     "name": "stdout",
     "output_type": "stream",
     "text": [
      "(267, 107)\n"
     ]
    }
   ],
   "source": [
    "path = \"/data3/wuli/proj/wuli/cfRNA/brain/01_bulk/data/cfRNA_train.csv\"\n",
    "train = pd.read_csv(path, encoding=\"utf-8\")\n",
    "\n",
    "X = train.iloc[:, 1:-1]\n",
    "y = train.iloc[:, -1]\n",
    "print(X.shape)\n",
    "\n",
    "X_train, X_test, y_train, y_test = train_test_split(X, y, test_size=0.2, random_state=42)\n",
    "X_train = X_train.reset_index(drop=True)\n",
    "y_train = y_train.reset_index(drop=True)"
   ]
  },
  {
   "cell_type": "code",
   "execution_count": null,
   "id": "552761bf-d7a4-41e9-9636-266eefd9e7ae",
   "metadata": {
    "execution": {
     "iopub.execute_input": "2024-06-22T14:08:21.468862Z",
     "iopub.status.busy": "2024-06-22T14:08:21.468378Z",
     "iopub.status.idle": "2024-06-22T14:08:21.507185Z",
     "shell.execute_reply": "2024-06-22T14:08:21.506311Z",
     "shell.execute_reply.started": "2024-06-22T14:08:21.468818Z"
    },
    "tags": []
   },
   "outputs": [
    {
     "name": "stdout",
     "output_type": "stream",
     "text": [
      "(70, 107)\n"
     ]
    }
   ],
   "source": [
    "path = \"/data3/wuli/proj/wuli/cfRNA/brain/01_bulk/data/cfRNA_vaild.csv\"\n",
    "valid = pd.read_csv(path, encoding=\"utf-8\")\n",
    "\n",
    "X_valid = valid.iloc[:, 1:-1]\n",
    "y_valid = valid.iloc[:, -1]\n",
    "print(X_valid.shape)"
   ]
  },
  {
   "cell_type": "markdown",
   "id": "118a24d7-bf9a-484c-a3aa-1f143ed40db5",
   "metadata": {},
   "source": [
    "### 网格搜索+交叉验证"
   ]
  },
  {
   "cell_type": "code",
   "execution_count": null,
   "id": "063c9181-ea87-4cf0-8fa3-ef123374f53c",
   "metadata": {
    "execution": {
     "iopub.execute_input": "2024-06-22T14:08:54.392608Z",
     "iopub.status.busy": "2024-06-22T14:08:54.392144Z",
     "iopub.status.idle": "2024-06-22T14:09:06.950724Z",
     "shell.execute_reply": "2024-06-22T14:09:06.949905Z",
     "shell.execute_reply.started": "2024-06-22T14:08:54.392562Z"
    },
    "tags": []
   },
   "outputs": [
    {
     "name": "stdout",
     "output_type": "stream",
     "text": [
      "Best parameters found:  {'max_depth': 5, 'min_samples_leaf': 2, 'min_samples_split': 10, 'n_estimators': 200}\n"
     ]
    }
   ],
   "source": [
    "classifier = RandomForestClassifier(random_state=42)\n",
    "\n",
    "param_grid = {\n",
    "    \"n_estimators\": np.arange(50, 201, 50).tolist(), \n",
    "    \"max_depth\": np.arange(5, 21, 5).tolist(),\n",
    "    \"min_samples_split\": np.arange(2, 11, 2).tolist(),\n",
    "    \"min_samples_leaf\": np.arange(2, 11, 2).tolist()\n",
    "    # \"bootstrap\": [True, False],\n",
    "    # \"criterion\": [\"gini\", \"entropy\"], \n",
    "}\n",
    "\n",
    "n_splits = 10\n",
    "cv = KFold(n_splits=n_splits, shuffle=True, random_state=42)\n",
    "\n",
    "grid_search = GridSearchCV(estimator=classifier, param_grid=param_grid, cv=cv, n_jobs=-1, verbose=0, error_score='raise')\n",
    "\n",
    "grid_search.fit(X_train, y_train)\n",
    "\n",
    "print(\"Best parameters found: \", grid_search.best_params_)"
   ]
  },
  {
   "cell_type": "code",
   "execution_count": null,
   "id": "0b2795c1-d37a-4009-8e66-6b99d240e935",
   "metadata": {
    "execution": {
     "iopub.execute_input": "2024-06-22T14:09:10.242420Z",
     "iopub.status.busy": "2024-06-22T14:09:10.241803Z",
     "iopub.status.idle": "2024-06-22T14:09:10.284888Z",
     "shell.execute_reply": "2024-06-22T14:09:10.284283Z",
     "shell.execute_reply.started": "2024-06-22T14:09:10.242372Z"
    },
    "tags": []
   },
   "outputs": [
    {
     "name": "stdout",
     "output_type": "stream",
     "text": [
      "Accuracy of the best model found: 0.77777778\n",
      "Mean cross-validated accuracy of the best model: 0.75584416\n"
     ]
    }
   ],
   "source": [
    "best_clf = grid_search.best_estimator_\n",
    "y_pred = best_clf.predict(X_test)\n",
    "\n",
    "accuracy = accuracy_score(y_test, y_pred)\n",
    "print(f\"Accuracy of the best model found: {accuracy:.8f}\")\n",
    "\n",
    "cv_results = grid_search.cv_results_\n",
    "mean_cv_accuracy = cv_results[\"mean_test_score\"][grid_search.best_index_]\n",
    "print(f\"Mean cross-validated accuracy of the best model: {mean_cv_accuracy:.8f}\")"
   ]
  },
  {
   "cell_type": "markdown",
   "id": "d8dd66e7-2fba-4a8e-9abf-bcc7038b16b1",
   "metadata": {},
   "source": [
    "### 最佳参数训练"
   ]
  },
  {
   "cell_type": "code",
   "execution_count": null,
   "id": "b909a6e4-8054-408e-b33f-18c0d4bdaab3",
   "metadata": {
    "execution": {
     "iopub.execute_input": "2024-06-22T14:09:11.989129Z",
     "iopub.status.busy": "2024-06-22T14:09:11.988038Z",
     "iopub.status.idle": "2024-06-22T14:09:14.354715Z",
     "shell.execute_reply": "2024-06-22T14:09:14.354103Z",
     "shell.execute_reply.started": "2024-06-22T14:09:11.989083Z"
    },
    "tags": []
   },
   "outputs": [
    {
     "name": "stdout",
     "output_type": "stream",
     "text": [
      "10-fold cross-validation scores: [0.72727273 0.77272727 0.72727273 0.66666667 0.80952381 0.57142857\n",
      " 0.80952381 0.71428571 0.71428571 0.85714286]\n",
      "Average accuracy: 0.73701299\n",
      "Standard deviation: 0.07733818\n",
      "Accuracy train: 0.96244131\n",
      "Accuracy test: 0.77777778\n",
      "Accuracy valid: 0.58571429\n"
     ]
    }
   ],
   "source": [
    "best_classifier = grid_search.best_estimator_\n",
    "\n",
    "best_classifier.fit(X_train, y_train)\n",
    "\n",
    "cv_scores = cross_val_score(best_classifier, X_train, y_train, cv=10)\n",
    "\n",
    "print(f\"10-fold cross-validation scores: {cv_scores}\")\n",
    "print(f\"Average accuracy: {cv_scores.mean():.8f}\")\n",
    "print(f\"Standard deviation: {cv_scores.std():.8f}\")\n",
    "\n",
    "train_accuracy = accuracy_score(y_train, best_classifier.predict(X_train))\n",
    "print(f\"Accuracy train: {train_accuracy:.8f}\")\n",
    "test_accuracy = accuracy_score(y_test, best_classifier.predict(X_test))\n",
    "print(f\"Accuracy test: {test_accuracy:.8f}\")\n",
    "valid_accuracy = accuracy_score(y_valid, best_classifier.predict(X_valid))\n",
    "print(f\"Accuracy valid: {valid_accuracy:.8f}\")"
   ]
  },
  {
   "cell_type": "markdown",
   "id": "059c8f49-d2c4-4d91-9a84-58198f0ab0e9",
   "metadata": {},
   "source": [
    "### RFECV"
   ]
  },
  {
   "cell_type": "code",
   "execution_count": null,
   "id": "15b10fcd-5530-4106-ba78-79abf67319c9",
   "metadata": {
    "execution": {
     "iopub.execute_input": "2024-06-22T14:09:17.246159Z",
     "iopub.status.busy": "2024-06-22T14:09:17.245693Z",
     "iopub.status.idle": "2024-06-22T14:09:56.990143Z",
     "shell.execute_reply": "2024-06-22T14:09:56.989443Z",
     "shell.execute_reply.started": "2024-06-22T14:09:17.246113Z"
    },
    "tags": []
   },
   "outputs": [
    {
     "name": "stdout",
     "output_type": "stream",
     "text": [
      "Optimal number of features : 47\n",
      "Cross-validation scores for each number of selected features: [[0.48148148 0.48148148 0.59259259 ... 0.57692308 0.57692308 0.46153846]\n",
      " [0.7037037  0.62962963 0.55555556 ... 0.65384615 0.76923077 0.42307692]\n",
      " [0.7037037  0.62962963 0.59259259 ... 0.57692308 0.69230769 0.5       ]\n",
      " ...\n",
      " [0.7037037  0.66666667 0.7037037  ... 0.65384615 0.76923077 0.53846154]\n",
      " [0.74074074 0.7037037  0.7037037  ... 0.65384615 0.73076923 0.61538462]\n",
      " [0.7037037  0.7037037  0.74074074 ... 0.57692308 0.80769231 0.5       ]]\n",
      "Ranking of features: [47  1  1  1  1  1 17  5 48 32  1 45 51  1 14 31 24 11  1  4 46  1  1  1\n",
      "  1  1  1  1  1  1  6  2  1 38  7  1 15  1 40 12  3  1 39  1  1  1 37 49\n",
      " 36 58 28  1  1 10 53  1  1  1  1 34  1 55  1 26  1 27  1 44  1 20 54 22\n",
      " 52 33  1 13 57  8 25 16 30 42 61  1 21 56 23 19 60 35 43  1  1  1  1  1\n",
      "  1  1 50  1 41  1 59 18  9  1 29]\n"
     ]
    },
    {
     "name": "stderr",
     "output_type": "stream",
     "text": [
      "/data2/wuli/software/anaconda3/lib/python3.9/site-packages/sklearn/utils/deprecation.py:103: FutureWarning: The `grid_scores_` attribute is deprecated in version 1.0 in favor of `cv_results_` and will be removed in version 1.2.\n",
      "  warnings.warn(msg, category=FutureWarning)\n"
     ]
    }
   ],
   "source": [
    "clf = grid_search.best_estimator_\n",
    "\n",
    "n_splits = 10\n",
    "# cv = KFold(n_splits=n_splits, shuffle=True, random_state=42)\n",
    "cv = StratifiedKFold(n_splits=n_splits, shuffle=True, random_state=42)\n",
    "rfecv = RFECV(\n",
    "    estimator=clf, step=1, cv=cv, n_jobs=-1, verbose=0,\n",
    "    importance_getter='auto', scoring=\"accuracy\", # roc_auc accuracy\n",
    "    min_features_to_select=1,)\n",
    "\n",
    "rfecv.fit(X, y)\n",
    "\n",
    "print(\"Optimal number of features : %d\" % rfecv.n_features_)\n",
    "print(\"Cross-validation scores for each number of selected features:\", rfecv.grid_scores_)\n",
    "print(\"Ranking of features:\", rfecv.ranking_)"
   ]
  },
  {
   "cell_type": "code",
   "execution_count": null,
   "id": "b9ad6e2c-06f5-46b4-880b-108470d94b9a",
   "metadata": {
    "execution": {
     "iopub.execute_input": "2024-06-22T14:10:01.923266Z",
     "iopub.status.busy": "2024-06-22T14:10:01.922786Z",
     "iopub.status.idle": "2024-06-22T14:10:01.985160Z",
     "shell.execute_reply": "2024-06-22T14:10:01.984179Z",
     "shell.execute_reply.started": "2024-06-22T14:10:01.923220Z"
    },
    "tags": []
   },
   "outputs": [
    {
     "name": "stdout",
     "output_type": "stream",
     "text": [
      "[0.63276353 0.63618234 0.62136752 0.6511396  0.63618234 0.64316239\n",
      " 0.63618234 0.66253561 0.6548433  0.65826211 0.65512821 0.66638177\n",
      " 0.66994302 0.65868946 0.66965812 0.66994302 0.66609687 0.71111111\n",
      " 0.68133903 0.68874644 0.68490028 0.69245014 0.69230769 0.70754986\n",
      " 0.69985755 0.70726496 0.69245014 0.68504274 0.6962963  0.7039886\n",
      " 0.69985755 0.70740741 0.7037037  0.7037037  0.69245014 0.69230769\n",
      " 0.68490028 0.70712251 0.6997151  0.6960114  0.69615385 0.69230769\n",
      " 0.68518519 0.69957265 0.69230769 0.6957265  0.7       ]\n",
      "Index(['ATP6', 'ATP8', 'COX2', 'COX3', 'CYTB', 'IGLV6.57', 'MTATP6P1',\n",
      "       'MTRNR2L2', 'ND2', 'ND3', 'ND4', 'ND4L', 'ND5', 'ND6', 'NPEPPSP1',\n",
      "       'PWP2', 'RNA5.8SN3', 'RNF182', 'SAP25', 'SMIM11', 'BPIFA3', 'C1orf147',\n",
      "       'C1QTNF2', 'CAV3', 'DLX3', 'DUX4L26', 'FAM83E', 'FOXA2', 'GDF6',\n",
      "       'GPR17', 'HOXC12', 'HTR1A', 'IRS4', 'KRT8P32', 'LACTBL1', 'NR2E3',\n",
      "       'OR4M1', 'PRB2', 'PRB4', 'PRPS1L1', 'SH3GL2', 'SIX6', 'SKOR2',\n",
      "       'SLC22A6', 'SPATA46', 'TFAP2D', 'TRIM75'],\n",
      "      dtype='object')\n"
     ]
    }
   ],
   "source": [
    "mean_scores = np.mean(rfecv.grid_scores_, axis=1)\n",
    "idx = np.where(rfecv.ranking_ == 1)[0]\n",
    "importances = mean_scores[idx]\n",
    "print(importances)\n",
    "\n",
    "genes = train.iloc[:, 1:-1].columns[rfecv.ranking_ == 1]\n",
    "print(genes)\n",
    "\n",
    "feature_importance_df = pd.DataFrame({\n",
    "    'Feature': genes, \n",
    "    'Importance': importances\n",
    "})\n",
    "feature_importance_df.to_csv('feature_importances.csv', index=False)"
   ]
  },
  {
   "cell_type": "code",
   "execution_count": null,
   "id": "cec582b2-4c2c-4cb8-85ea-476dbd2e1f0c",
   "metadata": {
    "execution": {
     "iopub.execute_input": "2024-06-20T02:15:26.783827Z",
     "iopub.status.busy": "2024-06-20T02:15:26.783343Z",
     "iopub.status.idle": "2024-06-20T02:15:26.994452Z",
     "shell.execute_reply": "2024-06-20T02:15:26.993862Z",
     "shell.execute_reply.started": "2024-06-20T02:15:26.783782Z"
    },
    "tags": []
   },
   "outputs": [
    {
     "data": {
      "image/png": "[encoded data removed]",
      "text/plain": [
       "<Figure size 432x216 with 1 Axes>"
      ]
     },
     "metadata": {
      "needs_background": "light"
     },
     "output_type": "display_data"
    }
   ],
   "source": [
    "plt.figure(figsize=(6, 3))\n",
    "plt.plot(range(1, len(rfecv.grid_scores_) + 1), np.mean(rfecv.grid_scores_, axis=1))\n",
    "plt.xlabel('Number of features')\n",
    "plt.ylabel('Cross-validated score (accuracy)')\n",
    "plt.title('cfRNA \\nCross-validated score vs Number of features')\n",
    "plt.axvline(x=47, linestyle=\"--\", color=\"blue\", label=\"X=47\")\n",
    "plt.legend()\n",
    "plt.savefig('cross_val_score_vs_features_cfRNA.pdf', format='pdf', dpi=300, bbox_inches='tight')\n",
    "plt.show()"
   ]
  },
  {
   "cell_type": "markdown",
   "id": "68e0bf9e-4c6b-48ab-a452-e175ef288e7c",
   "metadata": {},
   "source": [
    "### 特征选取后训练"
   ]
  },
  {
   "cell_type": "code",
   "execution_count": 175,
   "id": "e4c2a374-1735-4ac3-b5fb-d3254af62e5d",
   "metadata": {
    "execution": {
     "iopub.execute_input": "2024-06-20T02:15:31.249544Z",
     "iopub.status.busy": "2024-06-20T02:15:31.248631Z",
     "iopub.status.idle": "2024-06-20T02:15:31.260138Z",
     "shell.execute_reply": "2024-06-20T02:15:31.259022Z",
     "shell.execute_reply.started": "2024-06-20T02:15:31.249495Z"
    },
    "tags": []
   },
   "outputs": [
    {
     "data": {
      "text/plain": [
       "Index(['ATP6', 'ATP8', 'COX2', 'COX3', 'CYTB', 'IGLV6.57', 'MTATP6P1',\n",
       "       'MTRNR2L2', 'ND2', 'ND3', 'ND4', 'ND4L', 'ND5', 'ND6', 'NPEPPSP1',\n",
       "       'PWP2', 'RNA5.8SN3', 'RNF182', 'SAP25', 'SMIM11', 'BPIFA3', 'C1orf147',\n",
       "       'C1QTNF2', 'CAV3', 'DLX3', 'DUX4L26', 'FAM83E', 'FOXA2', 'GDF6',\n",
       "       'GPR17', 'HOXC12', 'HTR1A', 'IRS4', 'KRT8P32', 'LACTBL1', 'NR2E3',\n",
       "       'OR4M1', 'PRB2', 'PRB4', 'PRPS1L1', 'SH3GL2', 'SIX6', 'SKOR2',\n",
       "       'SLC22A6', 'SPATA46', 'TFAP2D', 'TRIM75'],\n",
       "      dtype='object')"
      ]
     },
     "execution_count": 175,
     "metadata": {},
     "output_type": "execute_result"
    }
   ],
   "source": [
    "gene = train.iloc[:, 1:-1].columns\n",
    "selected_genes = gene[rfecv.ranking_ == 1]\n",
    "selected_genes"
   ]
  },
  {
   "cell_type": "code",
   "execution_count": 176,
   "id": "c6e06659-a6e2-4b1b-808e-06f960240382",
   "metadata": {
    "execution": {
     "iopub.execute_input": "2024-06-20T02:15:33.350631Z",
     "iopub.status.busy": "2024-06-20T02:15:33.349521Z",
     "iopub.status.idle": "2024-06-20T02:15:33.356450Z",
     "shell.execute_reply": "2024-06-20T02:15:33.355221Z",
     "shell.execute_reply.started": "2024-06-20T02:15:33.350582Z"
    },
    "tags": []
   },
   "outputs": [],
   "source": [
    "# genes = ['ACSL1', 'ANPEP', 'APLNR', 'ARL1', 'BCL2', 'BCL6', 'CCT5', 'CREB5',\n",
    "#        'CYTH1', 'EZR', 'FLOT2', 'GCA', 'GGA2', 'HSPA8', 'IKZF1', 'LAMTOR4',\n",
    "#        'LBH', 'MNDA', 'MRPS23', 'MTATP6P1', 'MTRNR2L12', 'NEAT1', 'PTPN6',\n",
    "#        'RAB11FIP4', 'RBM47', 'RPL3P4', 'RPL6P27', 'RPS17', 'RUNX2', 'SNX30',\n",
    "#        'STIP1', 'TSPYL1', 'YBEY', 'ZBTB18', \"group\"]\n",
    "\n",
    "genes = list(selected_genes)\n",
    "genes.append(\"group\")"
   ]
  },
  {
   "cell_type": "code",
   "execution_count": null,
   "id": "24653494-77f3-45f7-a996-3987443506f9",
   "metadata": {
    "execution": {
     "iopub.execute_input": "2024-06-20T02:15:35.755039Z",
     "iopub.status.busy": "2024-06-20T02:15:35.754557Z",
     "iopub.status.idle": "2024-06-20T02:15:35.793093Z",
     "shell.execute_reply": "2024-06-20T02:15:35.792447Z",
     "shell.execute_reply.started": "2024-06-20T02:15:35.754993Z"
    },
    "tags": []
   },
   "outputs": [
    {
     "name": "stdout",
     "output_type": "stream",
     "text": [
      "        ATP6      ATP8      COX2      COX3       CYTB  IGLV6.57  MTATP6P1  \\\n",
      "0   9.154084  6.771835  9.085818  8.925299   9.936742  8.555905  7.137064   \n",
      "1  10.283037  8.203854  9.935053  9.389243  10.714722  6.184738  7.655069   \n",
      "2  10.263784  7.905914  9.606922  8.969391  10.263784  6.215557  7.498111   \n",
      "\n",
      "   MTRNR2L2        ND2       ND3  ...      PRB4   PRPS1L1    SH3GL2      SIX6  \\\n",
      "0  6.107082   8.646117  7.156289  ...  8.395287  8.397717  7.916866  8.564547   \n",
      "1  6.749795  10.613234  8.394773  ...  5.596908  5.820403  5.820403  5.596908   \n",
      "2  6.426042  10.370744  7.916177  ...  5.921781  5.596908  5.784737  5.596908   \n",
      "\n",
      "      SKOR2   SLC22A6   SPATA46    TFAP2D    TRIM75  group  \n",
      "0  8.421790  9.125435  9.017230  9.091758  8.199592      1  \n",
      "1  5.596908  5.596908  5.596908  5.596908  5.596908      1  \n",
      "2  5.596908  5.784737  5.784737  5.596908  5.596908      1  \n",
      "\n",
      "[3 rows x 48 columns]\n",
      "(213, 47)\n"
     ]
    }
   ],
   "source": [
    "path = \"/data3/wuli/proj/wuli/cfRNA/brain/01_bulk/data/cfRNA_train.csv\"\n",
    "train = pd.read_csv(path, encoding=\"utf-8\")\n",
    "train = train.iloc[:, 1:][genes]\n",
    "\n",
    "X = train.iloc[:, :-1] \n",
    "y = train.iloc[:, -1] \n",
    "\n",
    "X_train, X_test, y_train, y_test = train_test_split(X, y, test_size=0.2, random_state=42)\n",
    "X_train = X_train.reset_index(drop=True)\n",
    "y_train = y_train.reset_index(drop=True)\n",
    "print(X_train.shape)"
   ]
  },
  {
   "cell_type": "code",
   "execution_count": null,
   "id": "6fe871b1-9e8c-4c18-8897-f00d5e2235d9",
   "metadata": {
    "execution": {
     "iopub.execute_input": "2024-06-20T02:15:39.095468Z",
     "iopub.status.busy": "2024-06-20T02:15:39.094981Z",
     "iopub.status.idle": "2024-06-20T02:15:39.117666Z",
     "shell.execute_reply": "2024-06-20T02:15:39.116840Z",
     "shell.execute_reply.started": "2024-06-20T02:15:39.095421Z"
    },
    "tags": []
   },
   "outputs": [
    {
     "name": "stdout",
     "output_type": "stream",
     "text": [
      "(70, 47)\n"
     ]
    }
   ],
   "source": [
    "path = \"/data3/wuli/proj/wuli/cfRNA/brain/01_bulk/data/cfRNA_vaild.csv\"\n",
    "valid =pd.read_csv(path, encoding=\"utf-8\")\n",
    "valid = valid.iloc[:, 1:][genes]\n",
    "\n",
    "X_valid = valid.iloc[:, :-1]\n",
    "y_valid = valid.iloc[:, -1]\n",
    "print(X_valid.shape)"
   ]
  },
  {
   "cell_type": "markdown",
   "id": "8df7e2c0-5b45-40cb-b3cc-afb688ba1422",
   "metadata": {},
   "source": [
    "### 最终结果"
   ]
  },
  {
   "cell_type": "markdown",
   "id": "4cdaaa59-b7e8-4bd6-8efa-6a78a97dbb51",
   "metadata": {},
   "source": [
    "#### 随机森林"
   ]
  },
  {
   "cell_type": "code",
   "execution_count": null,
   "id": "64e7f901-934d-4ea1-8da2-af9efc560531",
   "metadata": {
    "execution": {
     "iopub.execute_input": "2024-06-20T02:18:35.758355Z",
     "iopub.status.busy": "2024-06-20T02:18:35.757546Z",
     "iopub.status.idle": "2024-06-20T02:18:38.979916Z",
     "shell.execute_reply": "2024-06-20T02:18:38.978884Z",
     "shell.execute_reply.started": "2024-06-20T02:18:35.758296Z"
    },
    "tags": []
   },
   "outputs": [
    {
     "name": "stdout",
     "output_type": "stream",
     "text": [
      "Accuracy Train: 0.9356807511737089\n",
      "Accuracy Test: 0.7851851851851852\n",
      "Accuracy Valid: 0.57\n"
     ]
    },
    {
     "data": {
      "image/png": "[encoded data removed]",
      "text/plain": [
       "<Figure size 432x288 with 1 Axes>"
      ]
     },
     "metadata": {
      "needs_background": "light"
     },
     "output_type": "display_data"
    }
   ],
   "source": [
    "classifier = grid_search.best_estimator_\n",
    "\n",
    "n_splits = 10\n",
    "cv = KFold(n_splits=n_splits, shuffle=True, random_state=42)\n",
    "\n",
    "tprs_train = []\n",
    "aucs_train = []\n",
    "accuracy_train = 0\n",
    "\n",
    "tprs_valid = []\n",
    "aucs_valid = []\n",
    "accuracy_valid = 0\n",
    "\n",
    "tprs_test = []\n",
    "aucs_test = []\n",
    "accuracy_test = 0\n",
    "\n",
    "mean_fpr = np.linspace(0, 1, 100)\n",
    "\n",
    "fig, ax = plt.subplots()\n",
    "ax.plot([0, 1], [0, 1], linestyle=\"--\", lw=2, color=\"black\", label=\"Random Chance\", alpha=1)\n",
    "\n",
    "for i, (train, test) in enumerate(cv.split(X_train, y_train)):\n",
    "    classifier.fit(X_train.iloc[train], y_train.iloc[train])\n",
    "\n",
    "    ### Train dataset -------------------------------------\n",
    "    curr_score = classifier.score(X_train, y_train)\n",
    "    accuracy_train = accuracy_train + curr_score\n",
    "\n",
    "    y_score_train = classifier.predict_proba(X_train)[:, 1]\n",
    "    fpr_train, tpr_train, _ = roc_curve(y_train, y_score_train)\n",
    "    viz_train = roc_auc_score(y_train, y_score_train)\n",
    "\n",
    "    interp_tpr_train = np.interp(mean_fpr, fpr_train, tpr_train)\n",
    "    interp_tpr_train[0] = 0.0\n",
    "\n",
    "    tprs_train.append(interp_tpr_train)\n",
    "    aucs_train.append(viz_train)\n",
    "\n",
    "    # ax.plot(fpr_train, tpr_train, lw=1, alpha=0.1, color=\"b\")\n",
    "\n",
    "    ### Validation dataset -------------------------------------\n",
    "    curr_score = classifier.score(X_valid, y_valid)\n",
    "    accuracy_valid = accuracy_valid + curr_score\n",
    "\n",
    "    y_score_valid = classifier.predict_proba(X_valid)[:, 1]\n",
    "    fpr_valid, tpr_valid, _ = roc_curve(y_valid, y_score_valid)\n",
    "    viz_valid = roc_auc_score(y_valid, y_score_valid)\n",
    "\n",
    "    interp_tpr_valid = np.interp(mean_fpr, fpr_valid, tpr_valid)\n",
    "    interp_tpr_valid[0] = 0.0\n",
    "\n",
    "    tprs_valid.append(interp_tpr_valid)\n",
    "    aucs_valid.append(viz_valid)\n",
    "\n",
    "    ax.plot(fpr_valid, tpr_valid, lw=1, alpha=0.1, color=\"r\")\n",
    "\n",
    "    ### Test dataset -------------------------------------\n",
    "    curr_score = classifier.score(X_test, y_test)\n",
    "    accuracy_test = accuracy_test + curr_score\n",
    "\n",
    "    y_score_test = classifier.predict_proba(X_test)[:, 1]\n",
    "    fpr_test, tpr_test, _ = roc_curve(y_test, y_score_test)\n",
    "    viz_test = roc_auc_score(y_test, y_score_test)\n",
    "\n",
    "    interp_tpr_test = np.interp(mean_fpr, fpr_test, tpr_test)\n",
    "    interp_tpr_test[0] = 0.0\n",
    "\n",
    "    tprs_test.append(interp_tpr_test)\n",
    "    aucs_test.append(viz_test)\n",
    "\n",
    "    ax.plot(fpr_test, tpr_test, lw=1, alpha=0.1, color=\"b\")\n",
    "\n",
    "accuracy_train = accuracy_train / n_splits\n",
    "accuracy_valid = accuracy_valid / n_splits\n",
    "accuracy_test = accuracy_test / n_splits\n",
    "print(\"Accuracy Train:\", accuracy_train)\n",
    "print(\"Accuracy Test:\", accuracy_test)\n",
    "print(\"Accuracy Valid:\", accuracy_valid)\n",
    "\n",
    "mean_tpr_train = np.mean(tprs_train, axis=0)\n",
    "mean_tpr_valid = np.mean(tprs_valid, axis=0)\n",
    "mean_tpr_test = np.mean(tprs_test, axis=0)\n",
    "\n",
    "mean_auc_train = auc(mean_fpr, mean_tpr_train)\n",
    "mean_auc_valid = auc(mean_fpr, mean_tpr_valid)\n",
    "mean_auc_test = auc(mean_fpr, mean_tpr_test)\n",
    "\n",
    "std_tpr_train = np.std(tprs_train, axis=0)\n",
    "tprs_upper_train = np.minimum(mean_tpr_train + std_tpr_train, 1)\n",
    "tprs_lower_train = np.maximum(mean_tpr_train - std_tpr_train, 0)\n",
    "# ax.fill_between(mean_fpr, tprs_lower_train, tprs_upper_train, color=\"g\", alpha=0.1)\n",
    "\n",
    "std_tpr_valid = np.std(tprs_valid, axis=0)\n",
    "tprs_upper_valid = np.minimum(mean_tpr_valid + std_tpr_valid, 1)\n",
    "tprs_lower_valid = np.maximum(mean_tpr_valid - std_tpr_valid, 0)\n",
    "ax.fill_between(mean_fpr, tprs_lower_valid, tprs_upper_valid, color=\"r\", alpha=0.1)\n",
    "\n",
    "std_tpr_test = np.std(tprs_test, axis=0)\n",
    "tprs_upper_test = np.minimum(mean_tpr_test + std_tpr_test, 1)\n",
    "tprs_lower_test = np.maximum(mean_tpr_test - std_tpr_test, 0)\n",
    "ax.fill_between(mean_fpr, tprs_lower_test, tprs_upper_test, color=\"b\", alpha=0.1)\n",
    "\n",
    "ax.plot(mean_fpr, mean_tpr_test, color=\"b\", lw=2, alpha=0.8, label=r\"Test Mean ROC (AUC=%0.2f)\" % (mean_auc_test),)\n",
    "ax.plot(mean_fpr, mean_tpr_valid, color=\"r\", lw=2, alpha=0.8, label=r\"Valid Mean ROC (AUC=%0.2f)\" % (mean_auc_valid),)\n",
    "\n",
    "ax.set_xlim([-0.05, 1.05])\n",
    "ax.set_ylim([-0.05, 1.05])\n",
    "ax.set_xlabel(\"False Positive Rate\", fontsize=16)\n",
    "ax.set_ylabel(\"True Positive Rate\", fontsize=16)\n",
    "ax.set_title(\"47 cfRNA genes RF ROC\", fontsize=18)\n",
    "ax.legend(loc=\"lower right\")\n",
    "plt.savefig('cross_val_score_vs_features_cfRNA_RF.pdf', format='pdf', dpi=300, bbox_inches='tight')\n",
    "plt.show()"
   ]
  },
  {
   "cell_type": "markdown",
   "id": "2247292b-a987-4197-bd30-0d51478f1d4a",
   "metadata": {},
   "source": [
    "#### SVM"
   ]
  },
  {
   "cell_type": "code",
   "execution_count": null,
   "id": "15429582-8ca9-4e98-b5c9-344f0acfd468",
   "metadata": {
    "execution": {
     "iopub.execute_input": "2024-06-20T02:16:13.722688Z",
     "iopub.status.busy": "2024-06-20T02:16:13.722222Z",
     "iopub.status.idle": "2024-06-20T02:16:21.716784Z",
     "shell.execute_reply": "2024-06-20T02:16:21.716068Z",
     "shell.execute_reply.started": "2024-06-20T02:16:13.722642Z"
    },
    "tags": []
   },
   "outputs": [
    {
     "name": "stdout",
     "output_type": "stream",
     "text": [
      "Fitting 10 folds for each of 20 candidates, totalling 200 fits\n",
      "Best parameters found:  {'C': 0.1, 'gamma': 'scale', 'kernel': 'linear'}\n",
      "Accuracy of the best model found: 0.70370370\n",
      "Mean cross-validated accuracy of the best model: 0.70432900\n"
     ]
    }
   ],
   "source": [
    "scaler = StandardScaler()\n",
    "X_train_scaled = scaler.fit_transform(X_train)\n",
    "X_test_scaled = scaler.transform(X_test) \n",
    "X_valid_scaled = scaler.transform(X_valid)\n",
    "\n",
    "classifier = svm.SVC(probability=True)\n",
    "\n",
    "param_grid = {\n",
    "    \"C\": [0.1, 1, 10, 100],\n",
    "    \"gamma\": [\"scale\", \"auto\", 0.1, 0.01, 0.001],\n",
    "    # 'kernel': ['linear', 'rbf', 'poly']\n",
    "    \"kernel\": [\"linear\"]\n",
    "}\n",
    "\n",
    "n_splits = 10\n",
    "cv = KFold(n_splits=n_splits, shuffle=True, random_state=42) # Mean cross-validated accuracy of the best model: 0.69956710\n",
    "grid_search = GridSearchCV(estimator=classifier, param_grid=param_grid, cv=cv, n_jobs=-1, verbose=1)\n",
    "grid_search.fit(X_train_scaled, y_train)\n",
    "print(\"Best parameters found: \", grid_search.best_params_)\n",
    "\n",
    "best_clf = grid_search.best_estimator_\n",
    "y_pred = best_clf.predict(X_test_scaled)\n",
    "\n",
    "accuracy = accuracy_score(y_test, y_pred)\n",
    "print(f\"Accuracy of the best model found: {accuracy:.8f}\")\n",
    "\n",
    "cv_results = grid_search.cv_results_\n",
    "mean_cv_accuracy = cv_results[\"mean_test_score\"][grid_search.best_index_]\n",
    "print(f\"Mean cross-validated accuracy of the best model: {mean_cv_accuracy:.8f}\")"
   ]
  },
  {
   "cell_type": "code",
   "execution_count": null,
   "id": "f404d0b1-4abc-40f6-9077-c3c4da92ffc4",
   "metadata": {
    "execution": {
     "iopub.execute_input": "2024-06-20T02:17:05.518501Z",
     "iopub.status.busy": "2024-06-20T02:17:05.517660Z",
     "iopub.status.idle": "2024-06-20T02:17:05.981984Z",
     "shell.execute_reply": "2024-06-20T02:17:05.981397Z",
     "shell.execute_reply.started": "2024-06-20T02:17:05.518454Z"
    },
    "tags": []
   },
   "outputs": [
    {
     "name": "stdout",
     "output_type": "stream",
     "text": [
      "Accuracy Train: 0.7812206572769953\n",
      "Accuracy Test: 0.7481481481481481\n",
      "Accuracy Valid: 0.5957142857142855\n"
     ]
    },
    {
     "data": {
      "image/png": "[encoded data removed]",
      "text/plain": [
       "<Figure size 432x288 with 1 Axes>"
      ]
     },
     "metadata": {
      "needs_background": "light"
     },
     "output_type": "display_data"
    }
   ],
   "source": [
    "classifier = grid_search.best_estimator_\n",
    "\n",
    "n_splits = 10\n",
    "cv = KFold(n_splits=n_splits, shuffle=True, random_state=42)\n",
    "\n",
    "tprs_train = []\n",
    "aucs_train = []\n",
    "accuracy_train = 0\n",
    "\n",
    "tprs_valid = []\n",
    "aucs_valid = []\n",
    "accuracy_valid = 0\n",
    "\n",
    "tprs_test = []\n",
    "aucs_test = []\n",
    "accuracy_test = 0\n",
    "\n",
    "mean_fpr = np.linspace(0, 1, 100)\n",
    "\n",
    "fig, ax = plt.subplots()\n",
    "ax.plot([0, 1], [0, 1], linestyle=\"--\", lw=2, color=\"black\", label=\"Random Chance\", alpha=1)\n",
    "\n",
    "for i, (train, test) in enumerate(cv.split(X_train, y_train)):\n",
    "    classifier.fit(X_train.iloc[train], y_train.iloc[train])\n",
    "\n",
    "    ### Train dataset -------------------------------------\n",
    "    curr_score = classifier.score(X_train, y_train)\n",
    "    accuracy_train = accuracy_train + curr_score\n",
    "\n",
    "    y_score_train = classifier.predict_proba(X_train)[:, 1]\n",
    "    fpr_train, tpr_train, _ = roc_curve(y_train, y_score_train)\n",
    "    viz_train = roc_auc_score(y_train, y_score_train)\n",
    "\n",
    "    interp_tpr_train = np.interp(mean_fpr, fpr_train, tpr_train)\n",
    "    interp_tpr_train[0] = 0.0\n",
    "\n",
    "    tprs_train.append(interp_tpr_train)\n",
    "    aucs_train.append(viz_train)\n",
    "\n",
    "    ### Validation dataset -------------------------------------\n",
    "    curr_score = classifier.score(X_valid, y_valid)\n",
    "    accuracy_valid = accuracy_valid + curr_score\n",
    "\n",
    "    y_score_valid = classifier.predict_proba(X_valid)[:, 1]\n",
    "    fpr_valid, tpr_valid, _ = roc_curve(y_valid, y_score_valid)\n",
    "    viz_valid = roc_auc_score(y_valid, y_score_valid)\n",
    "\n",
    "    interp_tpr_valid = np.interp(mean_fpr, fpr_valid, tpr_valid)\n",
    "    interp_tpr_valid[0] = 0.0\n",
    "\n",
    "    tprs_valid.append(interp_tpr_valid)\n",
    "    aucs_valid.append(viz_valid)\n",
    "\n",
    "    ax.plot(fpr_valid, tpr_valid, lw=1, alpha=0.1, color=\"r\")\n",
    "\n",
    "    ### Test dataset -------------------------------------\n",
    "    curr_score = classifier.score(X_test, y_test)\n",
    "    accuracy_test = accuracy_test + curr_score\n",
    "\n",
    "    y_score_test = classifier.predict_proba(X_test)[:, 1]\n",
    "    fpr_test, tpr_test, _ = roc_curve(y_test, y_score_test)\n",
    "    viz_test = roc_auc_score(y_test, y_score_test)\n",
    "\n",
    "    interp_tpr_test = np.interp(mean_fpr, fpr_test, tpr_test)\n",
    "    interp_tpr_test[0] = 0.0\n",
    "\n",
    "    tprs_test.append(interp_tpr_test)\n",
    "    aucs_test.append(viz_test)\n",
    "\n",
    "    ax.plot(fpr_test, tpr_test, lw=1, alpha=0.1, color=\"b\")\n",
    "\n",
    "accuracy_train = accuracy_train / n_splits\n",
    "accuracy_valid = accuracy_valid / n_splits\n",
    "accuracy_test = accuracy_test / n_splits\n",
    "print(\"Accuracy Train:\", accuracy_train)\n",
    "print(\"Accuracy Test:\", accuracy_test)\n",
    "print(\"Accuracy Valid:\", accuracy_valid)\n",
    "\n",
    "mean_tpr_train = np.mean(tprs_train, axis=0)\n",
    "mean_tpr_valid = np.mean(tprs_valid, axis=0)\n",
    "mean_tpr_test = np.mean(tprs_test, axis=0)\n",
    "\n",
    "mean_auc_train = auc(mean_fpr, mean_tpr_train)\n",
    "mean_auc_valid = auc(mean_fpr, mean_tpr_valid)\n",
    "mean_auc_test = auc(mean_fpr, mean_tpr_test)\n",
    "\n",
    "std_tpr_train = np.std(tprs_train, axis=0)\n",
    "tprs_upper_train = np.minimum(mean_tpr_train + std_tpr_train, 1)\n",
    "tprs_lower_train = np.maximum(mean_tpr_train - std_tpr_train, 0)\n",
    "\n",
    "std_tpr_valid = np.std(tprs_valid, axis=0)\n",
    "tprs_upper_valid = np.minimum(mean_tpr_valid + std_tpr_valid, 1)\n",
    "tprs_lower_valid = np.maximum(mean_tpr_valid - std_tpr_valid, 0)\n",
    "ax.fill_between(mean_fpr, tprs_lower_valid, tprs_upper_valid, color=\"r\", alpha=0.1)\n",
    "\n",
    "std_tpr_test = np.std(tprs_test, axis=0)\n",
    "tprs_upper_test = np.minimum(mean_tpr_test + std_tpr_test, 1)\n",
    "tprs_lower_test = np.maximum(mean_tpr_test - std_tpr_test, 0)\n",
    "ax.fill_between(mean_fpr, tprs_lower_test, tprs_upper_test, color=\"b\", alpha=0.1)\n",
    "\n",
    "ax.plot(mean_fpr, mean_tpr_test, color=\"b\", lw=2, alpha=0.8, label=r\"Test Mean ROC (AUC=%0.2f)\" % (mean_auc_test),)\n",
    "ax.plot(mean_fpr, mean_tpr_valid, color=\"r\", lw=2, alpha=0.8, label=r\"Valid Mean ROC (AUC=%0.2f)\" % (mean_auc_valid),)\n",
    "\n",
    "ax.set_xlim([-0.05, 1.05])\n",
    "ax.set_ylim([-0.05, 1.05])\n",
    "ax.set_xlabel(\"False Positive Rate\", fontsize=16)\n",
    "ax.set_ylabel(\"True Positive Rate\", fontsize=16)\n",
    "ax.set_title(\"47 cfRNA genes SVM ROC\", fontsize=18)\n",
    "ax.legend(loc=\"lower right\")\n",
    "plt.savefig('cross_val_score_vs_features_cfRNA_SVM.pdf', format='pdf', dpi=300, bbox_inches='tight')\n",
    "plt.show()"
   ]
  },
  {
   "cell_type": "markdown",
   "id": "783a2c30-5adf-4d9b-9372-2a2bcd17064f",
   "metadata": {},
   "source": [
    "#### 逻辑回归分类"
   ]
  },
  {
   "cell_type": "code",
   "execution_count": null,
   "id": "71b95d6f-512e-41b7-9600-4c846041d7b4",
   "metadata": {
    "execution": {
     "iopub.execute_input": "2024-06-20T02:17:16.998519Z",
     "iopub.status.busy": "2024-06-20T02:17:16.998070Z",
     "iopub.status.idle": "2024-06-20T02:17:18.321890Z",
     "shell.execute_reply": "2024-06-20T02:17:18.321052Z",
     "shell.execute_reply.started": "2024-06-20T02:17:16.998472Z"
    },
    "tags": []
   },
   "outputs": [
    {
     "name": "stdout",
     "output_type": "stream",
     "text": [
      "Best parameters found:  {'C': 1.0}\n"
     ]
    }
   ],
   "source": [
    "classifier = LogisticRegression(solver='liblinear', penalty='l1', max_iter=1000) # 选择 'liblinear' 或 'sag' 作为求解器\n",
    "\n",
    "param_grid = {\"C\": [0.1, 1.0, 10.0]}\n",
    "\n",
    "n_splits = 10\n",
    "cv = KFold(n_splits=n_splits, shuffle=True, random_state=42)\n",
    "\n",
    "grid_search = GridSearchCV(estimator=classifier, param_grid=param_grid, cv=cv, n_jobs=-1, verbose=0, error_score='raise')\n",
    "grid_search.fit(X_train, y_train)\n",
    "print(\"Best parameters found: \", grid_search.best_params_)"
   ]
  },
  {
   "cell_type": "code",
   "execution_count": null,
   "id": "f84493ab-fe0b-4357-a534-8bb31adbc6ca",
   "metadata": {
    "execution": {
     "iopub.execute_input": "2024-06-20T02:24:14.732625Z",
     "iopub.status.busy": "2024-06-20T02:24:14.731291Z",
     "iopub.status.idle": "2024-06-20T02:24:15.947804Z",
     "shell.execute_reply": "2024-06-20T02:24:15.947037Z",
     "shell.execute_reply.started": "2024-06-20T02:24:14.732556Z"
    },
    "tags": []
   },
   "outputs": [
    {
     "name": "stdout",
     "output_type": "stream",
     "text": [
      "Accuracy Train: 0.7793427230046948\n",
      "Accuracy Test: 0.6796296296296297\n",
      "Accuracy Valid: 0.5971428571428572\n"
     ]
    },
    {
     "data": {
      "image/png": "[encoded data removed]",
      "text/plain": [
       "<Figure size 432x288 with 1 Axes>"
      ]
     },
     "metadata": {
      "needs_background": "light"
     },
     "output_type": "display_data"
    }
   ],
   "source": [
    "classifier = grid_search.best_estimator_\n",
    "\n",
    "n_splits = 10\n",
    "cv = KFold(n_splits=n_splits, shuffle=True, random_state=42)\n",
    "\n",
    "tprs_train = []\n",
    "aucs_train = []\n",
    "accuracy_train = 0\n",
    "\n",
    "tprs_valid = []\n",
    "aucs_valid = []\n",
    "accuracy_valid = 0\n",
    "\n",
    "tprs_test = []\n",
    "aucs_test = []\n",
    "accuracy_test = 0\n",
    "\n",
    "mean_fpr = np.linspace(0, 1, 100)\n",
    "\n",
    "fig, ax = plt.subplots()\n",
    "ax.plot([0, 1], [0, 1], linestyle=\"--\", lw=2, color=\"black\", label=\"Random Chance\", alpha=1)\n",
    "\n",
    "for i, (train, test) in enumerate(cv.split(X_train, y_train)):\n",
    "    classifier.fit(X_train.iloc[train], y_train.iloc[train])\n",
    "\n",
    "    ### Train dataset -------------------------------------\n",
    "    curr_score = classifier.score(X_train, y_train)\n",
    "    accuracy_train = accuracy_train + curr_score\n",
    "\n",
    "    y_score_train = classifier.predict_proba(X_train)[:, 1]\n",
    "    fpr_train, tpr_train, _ = roc_curve(y_train, y_score_train)\n",
    "    viz_train = roc_auc_score(y_train, y_score_train)\n",
    "\n",
    "    interp_tpr_train = np.interp(mean_fpr, fpr_train, tpr_train)\n",
    "    interp_tpr_train[0] = 0.0\n",
    "\n",
    "    tprs_train.append(interp_tpr_train)\n",
    "    aucs_train.append(viz_train)\n",
    "\n",
    "    ### Validation dataset -------------------------------------\n",
    "    curr_score = classifier.score(X_valid, y_valid)\n",
    "    accuracy_valid = accuracy_valid + curr_score\n",
    "\n",
    "    y_score_valid = classifier.predict_proba(X_valid)[:, 1]\n",
    "    fpr_valid, tpr_valid, _ = roc_curve(y_valid, y_score_valid)\n",
    "    viz_valid = roc_auc_score(y_valid, y_score_valid)\n",
    "\n",
    "    interp_tpr_valid = np.interp(mean_fpr, fpr_valid, tpr_valid)\n",
    "    interp_tpr_valid[0] = 0.0\n",
    "\n",
    "    tprs_valid.append(interp_tpr_valid)\n",
    "    aucs_valid.append(viz_valid)\n",
    "\n",
    "    ax.plot(fpr_valid, tpr_valid, lw=1, alpha=0.1, color=\"r\")\n",
    "\n",
    "    ### Test dataset -------------------------------------\n",
    "    curr_score = classifier.score(X_test, y_test)\n",
    "    accuracy_test = accuracy_test + curr_score\n",
    "\n",
    "    y_score_test = classifier.predict_proba(X_test)[:, 1]\n",
    "    fpr_test, tpr_test, _ = roc_curve(y_test, y_score_test)\n",
    "    viz_test = roc_auc_score(y_test, y_score_test)\n",
    "\n",
    "    interp_tpr_test = np.interp(mean_fpr, fpr_test, tpr_test)\n",
    "    interp_tpr_test[0] = 0.0\n",
    "\n",
    "    tprs_test.append(interp_tpr_test)\n",
    "    aucs_test.append(viz_test)\n",
    "\n",
    "    ax.plot(fpr_test, tpr_test, lw=1, alpha=0.1, color=\"b\")\n",
    "\n",
    "accuracy_train = accuracy_train / n_splits\n",
    "accuracy_valid = accuracy_valid / n_splits\n",
    "accuracy_test = accuracy_test / n_splits\n",
    "print(\"Accuracy Train:\", accuracy_train)\n",
    "print(\"Accuracy Test:\", accuracy_test)\n",
    "print(\"Accuracy Valid:\", accuracy_valid)\n",
    "\n",
    "mean_tpr_train = np.mean(tprs_train, axis=0)\n",
    "mean_tpr_valid = np.mean(tprs_valid, axis=0)\n",
    "mean_tpr_test = np.mean(tprs_test, axis=0)\n",
    "\n",
    "mean_auc_train = auc(mean_fpr, mean_tpr_train)\n",
    "mean_auc_valid = auc(mean_fpr, mean_tpr_valid)\n",
    "mean_auc_test = auc(mean_fpr, mean_tpr_test)\n",
    "\n",
    "std_tpr_train = np.std(tprs_train, axis=0)\n",
    "tprs_upper_train = np.minimum(mean_tpr_train + std_tpr_train, 1)\n",
    "tprs_lower_train = np.maximum(mean_tpr_train - std_tpr_train, 0)\n",
    "# ax.fill_between(mean_fpr, tprs_lower_train, tprs_upper_train, color=\"g\", alpha=0.1)\n",
    "\n",
    "std_tpr_valid = np.std(tprs_valid, axis=0)\n",
    "tprs_upper_valid = np.minimum(mean_tpr_valid + std_tpr_valid, 1)\n",
    "tprs_lower_valid = np.maximum(mean_tpr_valid - std_tpr_valid, 0)\n",
    "ax.fill_between(mean_fpr, tprs_lower_valid, tprs_upper_valid, color=\"r\", alpha=0.1)\n",
    "\n",
    "std_tpr_test = np.std(tprs_test, axis=0)\n",
    "tprs_upper_test = np.minimum(mean_tpr_test + std_tpr_test, 1)\n",
    "tprs_lower_test = np.maximum(mean_tpr_test - std_tpr_test, 0)\n",
    "ax.fill_between(mean_fpr, tprs_lower_test, tprs_upper_test, color=\"b\", alpha=0.1)\n",
    "\n",
    "ax.plot(mean_fpr, mean_tpr_test, color=\"b\", lw=2, alpha=0.8, label=r\"Test Mean ROC (AUC=%0.2f)\" % (mean_auc_test),)\n",
    "ax.plot(mean_fpr, mean_tpr_valid, color=\"r\", lw=2, alpha=0.8, label=r\"Valid Mean ROC (AUC=%0.2f)\" % (mean_auc_valid),)\n",
    "\n",
    "ax.set_xlim([-0.05, 1.05])\n",
    "ax.set_ylim([-0.05, 1.05])\n",
    "ax.set_xlabel(\"False Positive Rate\", fontsize=16)\n",
    "ax.set_ylabel(\"True Positive Rate\", fontsize=16)\n",
    "ax.set_title(\"47 cfRNA genes LS ROC\", fontsize=18)\n",
    "ax.legend(loc=\"lower right\")\n",
    "plt.savefig('cross_val_score_vs_features_cfRNA_LS.pdf', format='pdf', dpi=300, bbox_inches='tight')\n",
    "plt.show()"
   ]
  }
 ],
 "metadata": {
  "kernelspec": {
   "display_name": "sklearn37",
   "language": "python",
   "name": "sklearn37"
  },
  "language_info": {
   "codemirror_mode": {
    "name": "ipython",
    "version": 3
   },
   "file_extension": ".py",
   "mimetype": "text/x-python",
   "name": "python",
   "nbconvert_exporter": "python",
   "pygments_lexer": "ipython3",
   "version": "3.9.12"
  }
 },
 "nbformat": 4,
 "nbformat_minor": 5
}
