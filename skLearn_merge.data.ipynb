{
 "cells": [
  {
   "cell_type": "markdown",
   "id": "0cb90971-ca81-4026-bae7-30c58d02699a",
   "metadata": {},
   "source": [
    "### import"
   ]
  },
  {
   "cell_type": "code",
   "execution_count": 1,
   "id": "74cffc9a-8796-4e59-8a61-7d7486afa6e8",
   "metadata": {
    "execution": {
     "iopub.execute_input": "2024-06-21T09:17:40.180271Z",
     "iopub.status.busy": "2024-06-21T09:17:40.179267Z",
     "iopub.status.idle": "2024-06-21T09:17:54.693857Z",
     "shell.execute_reply": "2024-06-21T09:17:54.692790Z",
     "shell.execute_reply.started": "2024-06-21T09:17:40.180092Z"
    },
    "tags": []
   },
   "outputs": [],
   "source": [
    "import os\n",
    "\n",
    "import matplotlib.pyplot as plt\n",
    "import numpy as np\n",
    "import pandas as pd\n",
    "from scipy import interp\n",
    "from sklearn import svm\n",
    "from sklearn.datasets import load_iris, make_classification, make_regression\n",
    "from sklearn.ensemble import RandomForestClassifier\n",
    "from sklearn.feature_selection import RFECV\n",
    "from sklearn.linear_model import Lasso, LogisticRegression\n",
    "from sklearn.metrics import (\n",
    "    accuracy_score,\n",
    "    auc,\n",
    "    classification_report,\n",
    "    confusion_matrix,\n",
    "    mean_squared_error,\n",
    "    roc_auc_score,\n",
    "    roc_curve,\n",
    ")\n",
    "from sklearn.model_selection import (\n",
    "    GridSearchCV,\n",
    "    KFold,\n",
    "    StratifiedKFold,\n",
    "    cross_val_predict,\n",
    "    cross_val_score,\n",
    "    cross_validate,\n",
    "    train_test_split,\n",
    ")\n",
    "from sklearn.multiclass import OneVsRestClassifier\n",
    "from sklearn.preprocessing import StandardScaler, label_binarize\n",
    "from sklearn.svm import SVC\n",
    "from sklearn.tree import DecisionTreeClassifier\n",
    "\n",
    "os.chdir(\"/data3/wuli/proj/wuli/cfRNA/brain/07_ML_in_Python/figure\")"
   ]
  },
  {
   "cell_type": "code",
   "execution_count": null,
   "id": "c4ecbd5d-4e05-4d48-980f-9ae982009804",
   "metadata": {
    "execution": {
     "iopub.execute_input": "2024-06-21T09:18:04.625172Z",
     "iopub.status.busy": "2024-06-21T09:18:04.624560Z",
     "iopub.status.idle": "2024-06-21T09:18:04.719502Z",
     "shell.execute_reply": "2024-06-21T09:18:04.718154Z",
     "shell.execute_reply.started": "2024-06-21T09:18:04.625120Z"
    },
    "tags": []
   },
   "outputs": [
    {
     "name": "stdout",
     "output_type": "stream",
     "text": [
      "(267, 112)\n"
     ]
    }
   ],
   "source": [
    "path = \"/data3/wuli/proj/wuli/cfRNA/brain/05_ML/data/data_train.csv\"\n",
    "train = pd.read_csv(path, encoding=\"utf-8\")\n",
    "\n",
    "X = train.iloc[:, 1:-1]\n",
    "y = train.iloc[:, -1]\n",
    "print(X.shape)\n",
    "\n",
    "X_train, X_test, y_train, y_test = train_test_split(\n",
    "    X, y, test_size=0.2, random_state=42\n",
    ")\n",
    "X_train = X_train.reset_index(drop=True)\n",
    "y_train = y_train.reset_index(drop=True)"
   ]
  },
  {
   "cell_type": "code",
   "execution_count": null,
   "id": "552761bf-d7a4-41e9-9636-266eefd9e7ae",
   "metadata": {
    "execution": {
     "iopub.execute_input": "2024-06-21T09:18:12.700210Z",
     "iopub.status.busy": "2024-06-21T09:18:12.699617Z",
     "iopub.status.idle": "2024-06-21T09:18:12.730789Z",
     "shell.execute_reply": "2024-06-21T09:18:12.729525Z",
     "shell.execute_reply.started": "2024-06-21T09:18:12.700153Z"
    },
    "tags": []
   },
   "outputs": [
    {
     "name": "stdout",
     "output_type": "stream",
     "text": [
      "(70, 112)\n"
     ]
    }
   ],
   "source": [
    "path = \"/data3/wuli/proj/wuli/cfRNA/brain/05_ML/data/data_vaild.csv\"\n",
    "valid = pd.read_csv(path, encoding=\"utf-8\")\n",
    "\n",
    "X_valid = valid.iloc[:, 1:-1]\n",
    "y_valid = valid.iloc[:, -1]\n",
    "print(X_valid.shape)"
   ]
  },
  {
   "cell_type": "markdown",
   "id": "118a24d7-bf9a-484c-a3aa-1f143ed40db5",
   "metadata": {},
   "source": [
    "### 网格搜索+交叉验证"
   ]
  },
  {
   "cell_type": "code",
   "execution_count": null,
   "id": "063c9181-ea87-4cf0-8fa3-ef123374f53c",
   "metadata": {
    "execution": {
     "iopub.execute_input": "2024-06-21T09:18:14.458952Z",
     "iopub.status.busy": "2024-06-21T09:18:14.458041Z",
     "iopub.status.idle": "2024-06-21T09:18:43.734197Z",
     "shell.execute_reply": "2024-06-21T09:18:43.732723Z",
     "shell.execute_reply.started": "2024-06-21T09:18:14.458890Z"
    },
    "tags": []
   },
   "outputs": [
    {
     "name": "stdout",
     "output_type": "stream",
     "text": [
      "Best parameters found:  {'max_depth': 10, 'min_samples_leaf': 2, 'min_samples_split': 10, 'n_estimators': 50}\n"
     ]
    }
   ],
   "source": [
    "classifier = RandomForestClassifier(random_state=42)\n",
    "\n",
    "param_grid = {\n",
    "    \"n_estimators\": np.arange(50, 201, 50).tolist(),\n",
    "    \"max_depth\": np.arange(5, 21, 5).tolist(),\n",
    "    \"min_samples_split\": np.arange(2, 11, 2).tolist(), \n",
    "    \"min_samples_leaf\": np.arange(2, 11, 2).tolist()\n",
    "}\n",
    "\n",
    "n_splits = 10\n",
    "cv = KFold(n_splits=n_splits, shuffle=True, random_state=42)\n",
    "\n",
    "grid_search = GridSearchCV(estimator=classifier, param_grid=param_grid, cv=cv, n_jobs=-1, verbose=0, error_score='raise')\n",
    "grid_search.fit(X_train, y_train)\n",
    "print(\"Best parameters found: \", grid_search.best_params_)"
   ]
  },
  {
   "cell_type": "code",
   "execution_count": null,
   "id": "0b2795c1-d37a-4009-8e66-6b99d240e935",
   "metadata": {
    "execution": {
     "iopub.execute_input": "2024-06-21T09:19:06.744886Z",
     "iopub.status.busy": "2024-06-21T09:19:06.744121Z",
     "iopub.status.idle": "2024-06-21T09:19:06.770748Z",
     "shell.execute_reply": "2024-06-21T09:19:06.769365Z",
     "shell.execute_reply.started": "2024-06-21T09:19:06.744808Z"
    },
    "tags": []
   },
   "outputs": [
    {
     "name": "stdout",
     "output_type": "stream",
     "text": [
      "Accuracy of the best model found: 0.83333333\n",
      "Mean cross-validated accuracy of the best model: 0.77554113\n"
     ]
    }
   ],
   "source": [
    "best_clf = grid_search.best_estimator_\n",
    "y_pred = best_clf.predict(X_test)\n",
    "\n",
    "accuracy = accuracy_score(y_test, y_pred)\n",
    "print(f\"Accuracy of the best model found: {accuracy:.8f}\")\n",
    "\n",
    "cv_results = grid_search.cv_results_\n",
    "mean_cv_accuracy = cv_results[\"mean_test_score\"][grid_search.best_index_]\n",
    "print(f\"Mean cross-validated accuracy of the best model: {mean_cv_accuracy:.8f}\")"
   ]
  },
  {
   "cell_type": "markdown",
   "id": "d8dd66e7-2fba-4a8e-9abf-bcc7038b16b1",
   "metadata": {},
   "source": [
    "### 最佳参数训练"
   ]
  },
  {
   "cell_type": "code",
   "execution_count": null,
   "id": "b909a6e4-8054-408e-b33f-18c0d4bdaab3",
   "metadata": {
    "execution": {
     "iopub.execute_input": "2024-06-21T09:19:08.815246Z",
     "iopub.status.busy": "2024-06-21T09:19:08.814271Z",
     "iopub.status.idle": "2024-06-21T09:19:10.754417Z",
     "shell.execute_reply": "2024-06-21T09:19:10.752955Z",
     "shell.execute_reply.started": "2024-06-21T09:19:08.815160Z"
    },
    "tags": []
   },
   "outputs": [
    {
     "name": "stdout",
     "output_type": "stream",
     "text": [
      "10-fold cross-validation scores: [0.68181818 0.77272727 0.77272727 0.66666667 0.80952381 0.66666667\n",
      " 0.66666667 0.80952381 0.71428571 0.71428571]\n",
      "Average accuracy: 0.72748918\n",
      "Standard deviation: 0.05575390\n",
      "Accuracy train: 0.99530516\n",
      "Accuracy test: 0.83333333\n",
      "Accuracy valid: 0.74285714\n"
     ]
    }
   ],
   "source": [
    "best_classifier = grid_search.best_estimator_\n",
    "best_classifier.fit(X_train, y_train)\n",
    "cv_scores = cross_val_score(best_classifier, X_train, y_train, cv=10)\n",
    "\n",
    "print(f\"10-fold cross-validation scores: {cv_scores}\")\n",
    "print(f\"Average accuracy: {cv_scores.mean():.8f}\")\n",
    "print(f\"Standard deviation: {cv_scores.std():.8f}\")\n",
    "\n",
    "train_accuracy = accuracy_score(y_train, best_classifier.predict(X_train))\n",
    "print(f\"Accuracy train: {train_accuracy:.8f}\")\n",
    "test_accuracy = accuracy_score(y_test, best_classifier.predict(X_test))\n",
    "print(f\"Accuracy test: {test_accuracy:.8f}\")\n",
    "valid_accuracy = accuracy_score(y_valid, best_classifier.predict(X_valid))\n",
    "print(f\"Accuracy valid: {valid_accuracy:.8f}\")"
   ]
  },
  {
   "cell_type": "markdown",
   "id": "059c8f49-d2c4-4d91-9a84-58198f0ab0e9",
   "metadata": {},
   "source": [
    "### RFECV"
   ]
  },
  {
   "cell_type": "code",
   "execution_count": null,
   "id": "15b10fcd-5530-4106-ba78-79abf67319c9",
   "metadata": {
    "execution": {
     "iopub.execute_input": "2024-06-21T09:21:03.116573Z",
     "iopub.status.busy": "2024-06-21T09:21:03.115091Z",
     "iopub.status.idle": "2024-06-21T09:21:35.115767Z",
     "shell.execute_reply": "2024-06-21T09:21:35.114430Z",
     "shell.execute_reply.started": "2024-06-21T09:21:03.116482Z"
    },
    "tags": []
   },
   "outputs": [
    {
     "name": "stdout",
     "output_type": "stream",
     "text": [
      "Optimal number of features : 34\n",
      "Cross-validation scores for each number of selected features: [[0.74074074 0.74074074 0.55555556 ... 0.57692308 0.53846154 0.46153846]\n",
      " [0.66666667 0.59259259 0.51851852 ... 0.76923077 0.69230769 0.73076923]\n",
      " [0.66666667 0.62962963 0.51851852 ... 0.80769231 0.73076923 0.69230769]\n",
      " ...\n",
      " [0.85185185 0.74074074 0.62962963 ... 0.76923077 0.73076923 0.65384615]\n",
      " [0.7037037  0.77777778 0.66666667 ... 0.80769231 0.69230769 0.69230769]\n",
      " [0.81481481 0.66666667 0.7037037  ... 0.73076923 0.76923077 0.61538462]]\n",
      "Ranking of features: [ 1 41  1 44  1 27  1 56  1  1 68 53 50  1  1  1  6 60 75 39 26 36  9  1\n",
      "  7 70  1  1  1 49 37 57 48 19 10  1 74  1 22  1  1  2 24 69  3 72 35  1\n",
      "  1  1  1 13  1 59 30 62  8 79 42 46 15  5 31  1 28  1 16 29  1 63 33 23\n",
      " 58 76 20  1  1 67 71  1 32 21  1 18 73 65 64 14 17 40 77 43 25 45  1 11\n",
      " 78  1 47 61 51 52 12 38 66  1 54 34  1  1  4 55]\n"
     ]
    },
    {
     "name": "stderr",
     "output_type": "stream",
     "text": [
      "/data2/wuli/software/anaconda3/lib/python3.9/site-packages/sklearn/utils/deprecation.py:103: FutureWarning: The `grid_scores_` attribute is deprecated in version 1.0 in favor of `cv_results_` and will be removed in version 1.2.\n",
      "  warnings.warn(msg, category=FutureWarning)\n"
     ]
    }
   ],
   "source": [
    "clf = grid_search.best_estimator_\n",
    "n_splits = 10\n",
    "cv = StratifiedKFold(n_splits=n_splits, shuffle=True, random_state=42)\n",
    "rfecv = RFECV(\n",
    "    estimator=clf, step=1, cv=cv, n_jobs=-1, verbose=0, \n",
    "    importance_getter='auto', scoring=\"accuracy\", # roc_auc accuracy\n",
    "    min_features_to_select=1,\n",
    ")\n",
    "\n",
    "rfecv.fit(X, y)\n",
    "\n",
    "print(\"Optimal number of features : %d\" % rfecv.n_features_)\n",
    "print(\"Cross-validation scores for each number of selected features:\", rfecv.grid_scores_)\n",
    "print(\"Ranking of features:\", rfecv.ranking_)"
   ]
  },
  {
   "cell_type": "code",
   "execution_count": null,
   "id": "cedae10a-6d56-4caa-9b4e-13f622a9f998",
   "metadata": {
    "execution": {
     "iopub.execute_input": "2024-06-21T09:43:13.965583Z",
     "iopub.status.busy": "2024-06-21T09:43:13.965216Z",
     "iopub.status.idle": "2024-06-21T09:43:13.983168Z",
     "shell.execute_reply": "2024-06-21T09:43:13.981578Z",
     "shell.execute_reply.started": "2024-06-21T09:43:13.965549Z"
    }
   },
   "outputs": [
    {
     "name": "stdout",
     "output_type": "stream",
     "text": [
      "[0.60213675 0.67863248 0.68176638 0.67037037 0.6968661  0.70413105\n",
      " 0.70769231 0.7454416  0.72307692 0.7454416  0.72663818 0.7002849\n",
      " 0.74501425 0.72649573 0.7522792  0.70740741 0.72250712 0.74529915\n",
      " 0.73404558 0.73746439 0.73789174 0.7525641  0.74501425 0.7525641\n",
      " 0.73404558 0.70754986 0.73048433 0.71125356 0.74159544 0.73774929\n",
      " 0.73376068 0.72250712 0.74173789 0.72279202]\n",
      "Index(['ACSL1', 'ANPEP', 'APLNR', 'ARL1', 'BCL2', 'BCL6', 'CCT5', 'CREB5',\n",
      "       'CYTH1', 'EZR', 'FLOT2', 'GCA', 'GGA2', 'HSPA8', 'IKZF1', 'LAMTOR4',\n",
      "       'LBH', 'MNDA', 'MRPS23', 'MTATP6P1', 'MTRNR2L12', 'NEAT1', 'PTPN6',\n",
      "       'RAB11FIP4', 'RBM47', 'RPL3P4', 'RPL6P27', 'RPS17', 'RUNX2', 'SNX30',\n",
      "       'STIP1', 'TSPYL1', 'YBEY', 'ZBTB18'],\n",
      "      dtype='object')\n"
     ]
    },
    {
     "name": "stderr",
     "output_type": "stream",
     "text": [
      "/data2/wuli/software/anaconda3/lib/python3.9/site-packages/sklearn/utils/deprecation.py:103: FutureWarning: The `grid_scores_` attribute is deprecated in version 1.0 in favor of `cv_results_` and will be removed in version 1.2.\n",
      "  warnings.warn(msg, category=FutureWarning)\n"
     ]
    }
   ],
   "source": [
    "mean_scores = np.mean(rfecv.grid_scores_, axis=1)\n",
    "idx = np.where(rfecv.ranking_ == 1)[0]\n",
    "importances = mean_scores[idx]\n",
    "print(importances)\n",
    "\n",
    "genes = train.iloc[:, 1:-1].columns[rfecv.ranking_ == 1]\n",
    "print(genes)\n",
    "\n",
    "feature_importance_df = pd.DataFrame({\n",
    "    'Feature': genes, \n",
    "    'Importance': importances\n",
    "})\n",
    "feature_importance_df.to_csv('feature_importances.csv', index=False)"
   ]
  },
  {
   "cell_type": "code",
   "execution_count": null,
   "id": "cec582b2-4c2c-4cb8-85ea-476dbd2e1f0c",
   "metadata": {
    "execution": {
     "iopub.execute_input": "2024-06-20T09:10:31.284207Z",
     "iopub.status.busy": "2024-06-20T09:10:31.283739Z",
     "iopub.status.idle": "2024-06-20T09:10:31.577554Z",
     "shell.execute_reply": "2024-06-20T09:10:31.577098Z",
     "shell.execute_reply.started": "2024-06-20T09:10:31.284165Z"
    },
    "tags": []
   },
   "outputs": [
    {
     "data": {
      "image/png": "[encoded data removed]",
      "text/plain": [
       "<Figure size 432x216 with 1 Axes>"
      ]
     },
     "metadata": {
      "needs_background": "light"
     },
     "output_type": "display_data"
    }
   ],
   "source": [
    "plt.figure(figsize=(6, 3))\n",
    "plt.plot(range(1, len(rfecv.grid_scores_) + 1), np.mean(rfecv.grid_scores_, axis=1))\n",
    "plt.xlabel('Number of features')\n",
    "plt.ylabel('Cross-validated score (accuracy)')\n",
    "plt.title('cfRNA and scRNA\\nCross-validated score vs Number of features')\n",
    "plt.axvline(x=34, linestyle=\"--\", color=\"blue\", label=\"X=34\")  # 添加x=6的虚线\n",
    "plt.legend() \n",
    "plt.savefig('cross_val_score_vs_features_cfRNA.pdf', format='pdf', dpi=300, bbox_inches='tight')\n",
    "plt.show()"
   ]
  },
  {
   "cell_type": "markdown",
   "id": "68e0bf9e-4c6b-48ab-a452-e175ef288e7c",
   "metadata": {},
   "source": [
    "### 特征选取后训练"
   ]
  },
  {
   "cell_type": "code",
   "execution_count": 50,
   "id": "e4c2a374-1735-4ac3-b5fb-d3254af62e5d",
   "metadata": {
    "execution": {
     "iopub.execute_input": "2024-06-20T09:10:35.350839Z",
     "iopub.status.busy": "2024-06-20T09:10:35.349979Z",
     "iopub.status.idle": "2024-06-20T09:10:35.361781Z",
     "shell.execute_reply": "2024-06-20T09:10:35.360938Z",
     "shell.execute_reply.started": "2024-06-20T09:10:35.350791Z"
    },
    "tags": []
   },
   "outputs": [
    {
     "data": {
      "text/plain": [
       "Index(['ACSL1', 'ANPEP', 'APLNR', 'ARL1', 'BCL2', 'BCL6', 'CCT5', 'CREB5',\n",
       "       'CYTH1', 'EZR', 'FLOT2', 'GCA', 'GGA2', 'HSPA8', 'IKZF1', 'LAMTOR4',\n",
       "       'LBH', 'MNDA', 'MRPS23', 'MTATP6P1', 'MTRNR2L12', 'NEAT1', 'PTPN6',\n",
       "       'RAB11FIP4', 'RBM47', 'RPL3P4', 'RPL6P27', 'RPS17', 'RUNX2', 'SNX30',\n",
       "       'STIP1', 'TSPYL1', 'YBEY', 'ZBTB18'],\n",
       "      dtype='object')"
      ]
     },
     "execution_count": 50,
     "metadata": {},
     "output_type": "execute_result"
    }
   ],
   "source": [
    "gene = train.iloc[:, 1:-1].columns\n",
    "selected_genes = gene[rfecv.ranking_ == 1]\n",
    "selected_genes"
   ]
  },
  {
   "cell_type": "code",
   "execution_count": 51,
   "id": "c6e06659-a6e2-4b1b-808e-06f960240382",
   "metadata": {
    "execution": {
     "iopub.execute_input": "2024-06-20T09:10:40.826824Z",
     "iopub.status.busy": "2024-06-20T09:10:40.826318Z",
     "iopub.status.idle": "2024-06-20T09:10:40.830878Z",
     "shell.execute_reply": "2024-06-20T09:10:40.830223Z",
     "shell.execute_reply.started": "2024-06-20T09:10:40.826795Z"
    },
    "tags": []
   },
   "outputs": [],
   "source": [
    "genes = ['ACSL1', 'ANPEP', 'APLNR', 'ARL1', 'BCL2', 'BCL6', 'CCT5', 'CREB5',\n",
    "       'CYTH1', 'EZR', 'FLOT2', 'GCA', 'GGA2', 'HSPA8', 'IKZF1', 'LAMTOR4',\n",
    "       'LBH', 'MNDA', 'MRPS23', 'MTATP6P1', 'MTRNR2L12', 'NEAT1', 'PTPN6',\n",
    "       'RAB11FIP4', 'RBM47', 'RPL3P4', 'RPL6P27', 'RPS17', 'RUNX2', 'SNX30',\n",
    "       'STIP1', 'TSPYL1', 'YBEY', 'ZBTB18', \"group\"]"
   ]
  },
  {
   "cell_type": "code",
   "execution_count": null,
   "id": "24653494-77f3-45f7-a996-3987443506f9",
   "metadata": {
    "execution": {
     "iopub.execute_input": "2024-06-20T09:10:42.557579Z",
     "iopub.status.busy": "2024-06-20T09:10:42.556614Z",
     "iopub.status.idle": "2024-06-20T09:10:42.599073Z",
     "shell.execute_reply": "2024-06-20T09:10:42.598446Z",
     "shell.execute_reply.started": "2024-06-20T09:10:42.557537Z"
    },
    "tags": []
   },
   "outputs": [
    {
     "name": "stdout",
     "output_type": "stream",
     "text": [
      "      ACSL1      ANPEP     APLNR      ARL1      BCL2      BCL6      CCT5  \\\n",
      "0  9.259294  10.839499  8.688148  8.289144  9.590462  9.105031  8.674277   \n",
      "1  9.010935   7.828568  7.368559  8.628650  9.595168  8.384548  9.218307   \n",
      "2  9.105818   8.382742  7.885146  8.533808  9.388066  8.628150  8.849918   \n",
      "\n",
      "       CREB5      CYTH1        EZR  ...    RPL3P4   RPL6P27      RPS17  \\\n",
      "0  10.098720   9.405623   9.570477  ...  6.264923  6.445541   8.003871   \n",
      "1   8.075056  10.015300  11.086361  ...  8.042499  8.087862  10.994655   \n",
      "2   9.417980   9.602338  10.563413  ...  6.882991  7.735704  10.300014   \n",
      "\n",
      "      RUNX2     SNX30     STIP1    TSPYL1      YBEY    ZBTB18  group  \n",
      "0  9.832109  9.374378  9.094718  8.475620  7.645173  9.303386      1  \n",
      "1  8.180242  8.469153  9.169231  9.557630  7.162882  9.595168      1  \n",
      "2  8.009937  8.453451  8.643273  9.438725  7.029253  9.614531      1  \n",
      "\n",
      "[3 rows x 35 columns]\n",
      "(213, 34)\n"
     ]
    }
   ],
   "source": [
    "path = \"/data3/wuli/proj/wuli/cfRNA/brain/05_ML/data/data_train.csv\"\n",
    "train = pd.read_csv(path, encoding=\"utf-8\")\n",
    "train = pd.DataFrame(train)\n",
    "train = train.iloc[:, 1:][genes]\n",
    "\n",
    "X = train.iloc[:, :-1] \n",
    "y = train.iloc[:, -1] \n",
    "\n",
    "X_train, X_test, y_train, y_test = train_test_split(X, y, test_size=0.2, random_state=42)\n",
    "X_train = X_train.reset_index(drop=True)\n",
    "y_train = y_train.reset_index(drop=True)\n",
    "print(X_train.shape)"
   ]
  },
  {
   "cell_type": "code",
   "execution_count": null,
   "id": "f4b784ea-3342-448e-8269-a857ccf4b9ab",
   "metadata": {
    "execution": {
     "iopub.execute_input": "2024-06-20T09:10:45.285000Z",
     "iopub.status.busy": "2024-06-20T09:10:45.284227Z",
     "iopub.status.idle": "2024-06-20T09:10:45.304412Z",
     "shell.execute_reply": "2024-06-20T09:10:45.303726Z",
     "shell.execute_reply.started": "2024-06-20T09:10:45.284957Z"
    },
    "tags": []
   },
   "outputs": [
    {
     "name": "stdout",
     "output_type": "stream",
     "text": [
      "(70, 34)\n"
     ]
    }
   ],
   "source": [
    "path = \"/data3/wuli/proj/wuli/cfRNA/brain/05_ML/data/data_vaild.csv\"\n",
    "valid = pd.read_csv(path, encoding=\"utf-8\")\n",
    "valid = valid.iloc[:, 1:][genes]\n",
    "\n",
    "X_valid = valid.iloc[:, :-1]\n",
    "y_valid = valid.iloc[:, -1]\n",
    "print(X_valid.shape)"
   ]
  },
  {
   "cell_type": "markdown",
   "id": "8df7e2c0-5b45-40cb-b3cc-afb688ba1422",
   "metadata": {},
   "source": [
    "### 最终结果"
   ]
  },
  {
   "cell_type": "markdown",
   "id": "4cdaaa59-b7e8-4bd6-8efa-6a78a97dbb51",
   "metadata": {},
   "source": [
    "#### 随机森林"
   ]
  },
  {
   "cell_type": "code",
   "execution_count": null,
   "id": "64e7f901-934d-4ea1-8da2-af9efc560531",
   "metadata": {
    "execution": {
     "iopub.execute_input": "2024-06-20T09:10:47.444218Z",
     "iopub.status.busy": "2024-06-20T09:10:47.443584Z",
     "iopub.status.idle": "2024-06-20T09:10:48.912951Z",
     "shell.execute_reply": "2024-06-20T09:10:48.912019Z",
     "shell.execute_reply.started": "2024-06-20T09:10:47.444165Z"
    },
    "tags": []
   },
   "outputs": [
    {
     "name": "stdout",
     "output_type": "stream",
     "text": [
      "Accuracy Train: 0.956807511737089\n",
      "Accuracy Test: 0.8222222222222222\n",
      "Accuracy Valid: 0.6685714285714285\n"
     ]
    },
    {
     "data": {
      "image/png": "[encoded data removed]",
      "text/plain": [
       "<Figure size 432x288 with 1 Axes>"
      ]
     },
     "metadata": {
      "needs_background": "light"
     },
     "output_type": "display_data"
    }
   ],
   "source": [
    "classifier = grid_search.best_estimator_\n",
    "n_splits = 10\n",
    "cv = KFold(n_splits=n_splits, shuffle=True, random_state=42)\n",
    "\n",
    "tprs_train = []\n",
    "aucs_train = []\n",
    "accuracy_train = 0\n",
    "\n",
    "tprs_valid = []\n",
    "aucs_valid = []\n",
    "accuracy_valid = 0\n",
    "\n",
    "tprs_test = []\n",
    "aucs_test = []\n",
    "accuracy_test = 0\n",
    "\n",
    "mean_fpr = np.linspace(0, 1, 100)\n",
    "\n",
    "fig, ax = plt.subplots()\n",
    "ax.plot([0, 1], [0, 1], linestyle=\"--\", lw=2, color=\"black\", label=\"Random Chance\", alpha=1)\n",
    "\n",
    "for i, (train, test) in enumerate(cv.split(X_train, y_train)):\n",
    "    classifier.fit(X_train.iloc[train], y_train.iloc[train])\n",
    "\n",
    "    ### Train dataset -------------------------------------\n",
    "    curr_score = classifier.score(X_train, y_train)\n",
    "    accuracy_train = accuracy_train + curr_score\n",
    "\n",
    "    y_score_train = classifier.predict_proba(X_train)[:, 1]\n",
    "    fpr_train, tpr_train, _ = roc_curve(y_train, y_score_train)\n",
    "    viz_train = roc_auc_score(y_train, y_score_train)\n",
    "\n",
    "    interp_tpr_train = np.interp(mean_fpr, fpr_train, tpr_train)\n",
    "    interp_tpr_train[0] = 0.0\n",
    "\n",
    "    tprs_train.append(interp_tpr_train)\n",
    "    aucs_train.append(viz_train)\n",
    "\n",
    "    ### Validation dataset -------------------------------------\n",
    "    curr_score = classifier.score(X_valid, y_valid)\n",
    "    accuracy_valid = accuracy_valid + curr_score\n",
    "\n",
    "    y_score_valid = classifier.predict_proba(X_valid)[:, 1]\n",
    "    fpr_valid, tpr_valid, _ = roc_curve(y_valid, y_score_valid)\n",
    "    viz_valid = roc_auc_score(y_valid, y_score_valid)\n",
    "\n",
    "    interp_tpr_valid = np.interp(mean_fpr, fpr_valid, tpr_valid)\n",
    "    interp_tpr_valid[0] = 0.0\n",
    "\n",
    "    tprs_valid.append(interp_tpr_valid)\n",
    "    aucs_valid.append(viz_valid)\n",
    "\n",
    "    ax.plot(fpr_valid, tpr_valid, lw=1, alpha=0.1, color=\"r\")\n",
    "\n",
    "    ### Test dataset -------------------------------------\n",
    "    curr_score = classifier.score(X_test, y_test)\n",
    "    accuracy_test = accuracy_test + curr_score\n",
    "\n",
    "    y_score_test = classifier.predict_proba(X_test)[:, 1]\n",
    "    fpr_test, tpr_test, _ = roc_curve(y_test, y_score_test)\n",
    "    viz_test = roc_auc_score(y_test, y_score_test)\n",
    "\n",
    "    interp_tpr_test = np.interp(mean_fpr, fpr_test, tpr_test)\n",
    "    interp_tpr_test[0] = 0.0\n",
    "\n",
    "    tprs_test.append(interp_tpr_test)\n",
    "    aucs_test.append(viz_test)\n",
    "\n",
    "    ax.plot(fpr_test, tpr_test, lw=1, alpha=0.1, color=\"b\")\n",
    "\n",
    "accuracy_train = accuracy_train / n_splits\n",
    "accuracy_valid = accuracy_valid / n_splits\n",
    "accuracy_test = accuracy_test / n_splits\n",
    "print(\"Accuracy Train:\", accuracy_train)\n",
    "print(\"Accuracy Test:\", accuracy_test)\n",
    "print(\"Accuracy Valid:\", accuracy_valid)\n",
    "\n",
    "mean_tpr_train = np.mean(tprs_train, axis=0)\n",
    "mean_tpr_valid = np.mean(tprs_valid, axis=0)\n",
    "mean_tpr_test = np.mean(tprs_test, axis=0)\n",
    "\n",
    "mean_auc_train = auc(mean_fpr, mean_tpr_train)\n",
    "mean_auc_valid = auc(mean_fpr, mean_tpr_valid)\n",
    "mean_auc_test = auc(mean_fpr, mean_tpr_test)\n",
    "\n",
    "std_tpr_train = np.std(tprs_train, axis=0)\n",
    "tprs_upper_train = np.minimum(mean_tpr_train + std_tpr_train, 1)\n",
    "tprs_lower_train = np.maximum(mean_tpr_train - std_tpr_train, 0)\n",
    "\n",
    "std_tpr_valid = np.std(tprs_valid, axis=0)\n",
    "tprs_upper_valid = np.minimum(mean_tpr_valid + std_tpr_valid, 1)\n",
    "tprs_lower_valid = np.maximum(mean_tpr_valid - std_tpr_valid, 0)\n",
    "ax.fill_between(mean_fpr, tprs_lower_valid, tprs_upper_valid, color=\"r\", alpha=0.1)\n",
    "\n",
    "std_tpr_test = np.std(tprs_test, axis=0)\n",
    "tprs_upper_test = np.minimum(mean_tpr_test + std_tpr_test, 1)\n",
    "tprs_lower_test = np.maximum(mean_tpr_test - std_tpr_test, 0)\n",
    "ax.fill_between(mean_fpr, tprs_lower_test, tprs_upper_test, color=\"b\", alpha=0.1)\n",
    "\n",
    "ax.plot(mean_fpr, mean_tpr_test, color=\"b\", lw=2, alpha=0.8, label=r\"Test Mean ROC (AUC=%0.2f)\" % (mean_auc_test),)\n",
    "ax.plot(mean_fpr, mean_tpr_valid, color=\"r\", lw=2, alpha=0.8, label=r\"Valid Mean ROC (AUC=%0.2f)\" % (mean_auc_valid),)\n",
    "\n",
    "ax.set_xlim([-0.05, 1.05])\n",
    "ax.set_ylim([-0.05, 1.05])\n",
    "ax.set_xlabel(\"False Positive Rate\", fontsize=16)\n",
    "ax.set_ylabel(\"True Positive Rate\", fontsize=16)\n",
    "ax.set_title(\"34 cfRNA and scRNA genes \\nRF ROC\", fontsize=18)\n",
    "ax.legend(loc=\"lower right\")\n",
    "plt.savefig('cross_val_score_vs_features_RF.pdf', format='pdf', dpi=300, bbox_inches='tight')\n",
    "plt.show()"
   ]
  },
  {
   "cell_type": "markdown",
   "id": "2247292b-a987-4197-bd30-0d51478f1d4a",
   "metadata": {},
   "source": [
    "#### SVM"
   ]
  },
  {
   "cell_type": "code",
   "execution_count": null,
   "id": "15429582-8ca9-4e98-b5c9-344f0acfd468",
   "metadata": {
    "execution": {
     "iopub.execute_input": "2024-06-20T09:11:00.529072Z",
     "iopub.status.busy": "2024-06-20T09:11:00.528489Z",
     "iopub.status.idle": "2024-06-20T09:11:05.829600Z",
     "shell.execute_reply": "2024-06-20T09:11:05.828747Z",
     "shell.execute_reply.started": "2024-06-20T09:11:00.529010Z"
    },
    "tags": []
   },
   "outputs": [
    {
     "name": "stdout",
     "output_type": "stream",
     "text": [
      "Fitting 10 folds for each of 20 candidates, totalling 200 fits\n",
      "Best parameters found:  {'C': 1, 'gamma': 'scale', 'kernel': 'linear'}\n",
      "Accuracy of the best model found: 0.75925926\n",
      "Mean cross-validated accuracy of the best model: 0.72445887\n"
     ]
    }
   ],
   "source": [
    "scaler = StandardScaler()\n",
    "X_train_scaled = scaler.fit_transform(X_train)\n",
    "X_test_scaled = scaler.transform(X_test)\n",
    "X_valid_scaled = scaler.transform(X_valid)\n",
    "\n",
    "classifier = svm.SVC(probability=True)\n",
    "param_grid = {\n",
    "    \"C\": [0.1, 1, 10, 100],\n",
    "    \"gamma\": [\"scale\", \"auto\", 0.1, 0.01, 0.001],\n",
    "    # 'kernel': ['linear', 'rbf', 'poly']\n",
    "    \"kernel\": [\"linear\"]\n",
    "}\n",
    "\n",
    "n_splits = 10\n",
    "cv = KFold(n_splits=n_splits, shuffle=True, random_state=42) # Mean cross-validated accuracy of the best model: 0.69956710\n",
    "grid_search = GridSearchCV(estimator=classifier, param_grid=param_grid, cv=cv, n_jobs=-1, verbose=1)\n",
    "grid_search.fit(X_train_scaled, y_train)\n",
    "print(\"Best parameters found: \", grid_search.best_params_)\n",
    "\n",
    "best_clf = grid_search.best_estimator_\n",
    "y_pred = best_clf.predict(X_test_scaled)\n",
    "\n",
    "accuracy = accuracy_score(y_test, y_pred)\n",
    "print(f\"Accuracy of the best model found: {accuracy:.8f}\")\n",
    "\n",
    "cv_results = grid_search.cv_results_\n",
    "mean_cv_accuracy = cv_results[\"mean_test_score\"][grid_search.best_index_]\n",
    "print(f\"Mean cross-validated accuracy of the best model: {mean_cv_accuracy:.8f}\")"
   ]
  },
  {
   "cell_type": "code",
   "execution_count": null,
   "id": "f404d0b1-4abc-40f6-9077-c3c4da92ffc4",
   "metadata": {
    "execution": {
     "iopub.execute_input": "2024-06-20T09:11:08.458023Z",
     "iopub.status.busy": "2024-06-20T09:11:08.457499Z",
     "iopub.status.idle": "2024-06-20T09:11:08.980898Z",
     "shell.execute_reply": "2024-06-20T09:11:08.980369Z",
     "shell.execute_reply.started": "2024-06-20T09:11:08.457969Z"
    },
    "tags": []
   },
   "outputs": [
    {
     "name": "stdout",
     "output_type": "stream",
     "text": [
      "Accuracy Train: 0.8131455399061032\n",
      "Accuracy Test: 0.7611111111111113\n",
      "Accuracy Valid: 0.6714285714285715\n"
     ]
    },
    {
     "data": {
      "image/png": "[encoded data removed]",
      "text/plain": [
       "<Figure size 432x288 with 1 Axes>"
      ]
     },
     "metadata": {
      "needs_background": "light"
     },
     "output_type": "display_data"
    }
   ],
   "source": [
    "classifier = grid_search.best_estimator_\n",
    "n_splits = 10\n",
    "cv = KFold(n_splits=n_splits, shuffle=True, random_state=42)\n",
    "\n",
    "tprs_train = []\n",
    "aucs_train = []\n",
    "accuracy_train = 0\n",
    "\n",
    "tprs_valid = []\n",
    "aucs_valid = []\n",
    "accuracy_valid = 0\n",
    "\n",
    "tprs_test = []\n",
    "aucs_test = []\n",
    "accuracy_test = 0\n",
    "\n",
    "mean_fpr = np.linspace(0, 1, 100)\n",
    "fig, ax = plt.subplots()\n",
    "ax.plot([0, 1], [0, 1], linestyle=\"--\", lw=2, color=\"black\", label=\"Random Chance\", alpha=1)\n",
    "\n",
    "for i, (train, test) in enumerate(cv.split(X_train, y_train)):\n",
    "    classifier.fit(X_train.iloc[train], y_train.iloc[train])\n",
    "\n",
    "    ### Train dataset -------------------------------------\n",
    "    curr_score = classifier.score(X_train, y_train)\n",
    "    accuracy_train = accuracy_train + curr_score\n",
    "\n",
    "    y_score_train = classifier.predict_proba(X_train)[:, 1]\n",
    "    fpr_train, tpr_train, _ = roc_curve(y_train, y_score_train)\n",
    "    viz_train = roc_auc_score(y_train, y_score_train)\n",
    "\n",
    "    interp_tpr_train = np.interp(mean_fpr, fpr_train, tpr_train)\n",
    "    interp_tpr_train[0] = 0.0\n",
    "\n",
    "    tprs_train.append(interp_tpr_train)\n",
    "    aucs_train.append(viz_train)\n",
    "\n",
    "    ### Validation dataset -------------------------------------\n",
    "    curr_score = classifier.score(X_valid, y_valid)\n",
    "    accuracy_valid = accuracy_valid + curr_score\n",
    "\n",
    "    y_score_valid = classifier.predict_proba(X_valid)[:, 1]\n",
    "    fpr_valid, tpr_valid, _ = roc_curve(y_valid, y_score_valid)\n",
    "    viz_valid = roc_auc_score(y_valid, y_score_valid)\n",
    "\n",
    "    interp_tpr_valid = np.interp(mean_fpr, fpr_valid, tpr_valid)\n",
    "    interp_tpr_valid[0] = 0.0\n",
    "\n",
    "    tprs_valid.append(interp_tpr_valid)\n",
    "    aucs_valid.append(viz_valid)\n",
    "\n",
    "    ax.plot(fpr_valid, tpr_valid, lw=1, alpha=0.1, color=\"r\")\n",
    "\n",
    "    ### Test dataset -------------------------------------\n",
    "    curr_score = classifier.score(X_test, y_test)\n",
    "    accuracy_test = accuracy_test + curr_score\n",
    "\n",
    "    y_score_test = classifier.predict_proba(X_test)[:, 1]\n",
    "    fpr_test, tpr_test, _ = roc_curve(y_test, y_score_test)\n",
    "    viz_test = roc_auc_score(y_test, y_score_test)\n",
    "\n",
    "    interp_tpr_test = np.interp(mean_fpr, fpr_test, tpr_test)\n",
    "    interp_tpr_test[0] = 0.0\n",
    "\n",
    "    tprs_test.append(interp_tpr_test)\n",
    "    aucs_test.append(viz_test)\n",
    "\n",
    "    ax.plot(fpr_test, tpr_test, lw=1, alpha=0.1, color=\"b\")\n",
    "\n",
    "accuracy_train = accuracy_train / n_splits\n",
    "accuracy_valid = accuracy_valid / n_splits\n",
    "accuracy_test = accuracy_test / n_splits\n",
    "print(\"Accuracy Train:\", accuracy_train)\n",
    "print(\"Accuracy Test:\", accuracy_test)\n",
    "print(\"Accuracy Valid:\", accuracy_valid)\n",
    "\n",
    "mean_tpr_train = np.mean(tprs_train, axis=0)\n",
    "mean_tpr_valid = np.mean(tprs_valid, axis=0)\n",
    "mean_tpr_test = np.mean(tprs_test, axis=0)\n",
    "\n",
    "mean_auc_train = auc(mean_fpr, mean_tpr_train)\n",
    "mean_auc_valid = auc(mean_fpr, mean_tpr_valid)\n",
    "mean_auc_test = auc(mean_fpr, mean_tpr_test)\n",
    "\n",
    "std_tpr_train = np.std(tprs_train, axis=0)\n",
    "tprs_upper_train = np.minimum(mean_tpr_train + std_tpr_train, 1)\n",
    "tprs_lower_train = np.maximum(mean_tpr_train - std_tpr_train, 0)\n",
    "\n",
    "std_tpr_valid = np.std(tprs_valid, axis=0)\n",
    "tprs_upper_valid = np.minimum(mean_tpr_valid + std_tpr_valid, 1)\n",
    "tprs_lower_valid = np.maximum(mean_tpr_valid - std_tpr_valid, 0)\n",
    "ax.fill_between(mean_fpr, tprs_lower_valid, tprs_upper_valid, color=\"r\", alpha=0.1)\n",
    "\n",
    "std_tpr_test = np.std(tprs_test, axis=0)\n",
    "tprs_upper_test = np.minimum(mean_tpr_test + std_tpr_test, 1)\n",
    "tprs_lower_test = np.maximum(mean_tpr_test - std_tpr_test, 0)\n",
    "ax.fill_between(mean_fpr, tprs_lower_test, tprs_upper_test, color=\"b\", alpha=0.1)\n",
    "\n",
    "ax.plot(mean_fpr, mean_tpr_test, color=\"b\", lw=2, alpha=0.8, label=r\"Test Mean ROC (AUC=%0.2f)\" % (mean_auc_test),)\n",
    "ax.plot(mean_fpr, mean_tpr_valid, color=\"r\", lw=2, alpha=0.8, label=r\"Valid Mean ROC (AUC=%0.2f)\" % (mean_auc_valid),)\n",
    "\n",
    "ax.set_xlim([-0.05, 1.05])\n",
    "ax.set_ylim([-0.05, 1.05])\n",
    "ax.set_xlabel(\"False Positive Rate\", fontsize=16)\n",
    "ax.set_ylabel(\"True Positive Rate\", fontsize=16)\n",
    "ax.set_title(\"34 cfRNA and scRNA genes \\nSVM ROC\", fontsize=18)\n",
    "ax.legend(loc=\"lower right\")\n",
    "plt.savefig('cross_val_score_vs_features_SVM.pdf', format='pdf', dpi=300, bbox_inches='tight')\n",
    "plt.show()"
   ]
  },
  {
   "cell_type": "markdown",
   "id": "783a2c30-5adf-4d9b-9372-2a2bcd17064f",
   "metadata": {},
   "source": [
    "#### 逻辑回归分类"
   ]
  },
  {
   "cell_type": "code",
   "execution_count": null,
   "id": "71b95d6f-512e-41b7-9600-4c846041d7b4",
   "metadata": {
    "execution": {
     "iopub.execute_input": "2024-06-20T09:11:12.843750Z",
     "iopub.status.busy": "2024-06-20T09:11:12.843257Z",
     "iopub.status.idle": "2024-06-20T09:11:13.623764Z",
     "shell.execute_reply": "2024-06-20T09:11:13.622974Z",
     "shell.execute_reply.started": "2024-06-20T09:11:12.843697Z"
    },
    "tags": []
   },
   "outputs": [
    {
     "name": "stdout",
     "output_type": "stream",
     "text": [
      "Best parameters found:  {'C': 1.0}\n"
     ]
    }
   ],
   "source": [
    "classifier = LogisticRegression(solver='liblinear', penalty='l1', max_iter=1000) # 选择 'liblinear' 或 'sag' 作为求解器\n",
    "param_grid = {\"C\": [0.1, 1.0, 10.0]}\n",
    "n_splits = 10\n",
    "cv = KFold(n_splits=n_splits, shuffle=True, random_state=42)\n",
    "\n",
    "grid_search = GridSearchCV(estimator=classifier, param_grid=param_grid, cv=cv, n_jobs=-1, verbose=0, error_score='raise')\n",
    "grid_search.fit(X_train, y_train)\n",
    "print(\"Best parameters found: \", grid_search.best_params_)"
   ]
  },
  {
   "cell_type": "code",
   "execution_count": null,
   "id": "f84493ab-fe0b-4357-a534-8bb31adbc6ca",
   "metadata": {
    "execution": {
     "iopub.execute_input": "2024-06-20T09:11:15.262280Z",
     "iopub.status.busy": "2024-06-20T09:11:15.261887Z",
     "iopub.status.idle": "2024-06-20T09:11:17.417802Z",
     "shell.execute_reply": "2024-06-20T09:11:17.417104Z",
     "shell.execute_reply.started": "2024-06-20T09:11:15.262236Z"
    },
    "tags": []
   },
   "outputs": [
    {
     "name": "stdout",
     "output_type": "stream",
     "text": [
      "Accuracy Train: 0.7948356807511738\n",
      "Accuracy Test: 0.7648148148148148\n",
      "Accuracy Valid: 0.7214285714285714\n"
     ]
    },
    {
     "data": {
      "image/png": "[encoded data removed]",
      "text/plain": [
       "<Figure size 432x288 with 1 Axes>"
      ]
     },
     "metadata": {
      "needs_background": "light"
     },
     "output_type": "display_data"
    }
   ],
   "source": [
    "classifier = grid_search.best_estimator_\n",
    "\n",
    "n_splits = 10\n",
    "cv = KFold(n_splits=n_splits, shuffle=True, random_state=42)\n",
    "\n",
    "tprs_train = []\n",
    "aucs_train = []\n",
    "accuracy_train = 0\n",
    "\n",
    "tprs_valid = []\n",
    "aucs_valid = []\n",
    "accuracy_valid = 0\n",
    "\n",
    "tprs_test = []\n",
    "aucs_test = []\n",
    "accuracy_test = 0\n",
    "\n",
    "mean_fpr = np.linspace(0, 1, 100)\n",
    "fig, ax = plt.subplots()\n",
    "ax.plot([0, 1], [0, 1], linestyle=\"--\", lw=2, color=\"black\", label=\"Random Chance\", alpha=1)\n",
    "\n",
    "for i, (train, test) in enumerate(cv.split(X_train, y_train)):\n",
    "    classifier.fit(X_train.iloc[train], y_train.iloc[train])\n",
    "\n",
    "    ### Train dataset -------------------------------------\n",
    "    curr_score = classifier.score(X_train, y_train)\n",
    "    accuracy_train = accuracy_train + curr_score\n",
    "\n",
    "    y_score_train = classifier.predict_proba(X_train)[:, 1]\n",
    "    fpr_train, tpr_train, _ = roc_curve(y_train, y_score_train)\n",
    "    viz_train = roc_auc_score(y_train, y_score_train)\n",
    "\n",
    "    interp_tpr_train = np.interp(mean_fpr, fpr_train, tpr_train)\n",
    "    interp_tpr_train[0] = 0.0\n",
    "\n",
    "    tprs_train.append(interp_tpr_train)\n",
    "    aucs_train.append(viz_train)\n",
    "\n",
    "    ### Validation dataset -------------------------------------\n",
    "    curr_score = classifier.score(X_valid, y_valid)\n",
    "    accuracy_valid = accuracy_valid + curr_score\n",
    "\n",
    "    y_score_valid = classifier.predict_proba(X_valid)[:, 1]\n",
    "    fpr_valid, tpr_valid, _ = roc_curve(y_valid, y_score_valid)\n",
    "    viz_valid = roc_auc_score(y_valid, y_score_valid)\n",
    "\n",
    "    interp_tpr_valid = np.interp(mean_fpr, fpr_valid, tpr_valid)\n",
    "    interp_tpr_valid[0] = 0.0\n",
    "\n",
    "    tprs_valid.append(interp_tpr_valid)\n",
    "    aucs_valid.append(viz_valid)\n",
    "\n",
    "    ax.plot(fpr_valid, tpr_valid, lw=1, alpha=0.1, color=\"r\")\n",
    "\n",
    "    ### Test dataset -------------------------------------\n",
    "    curr_score = classifier.score(X_test, y_test)\n",
    "    accuracy_test = accuracy_test + curr_score\n",
    "\n",
    "    y_score_test = classifier.predict_proba(X_test)[:, 1]\n",
    "    fpr_test, tpr_test, _ = roc_curve(y_test, y_score_test)\n",
    "    viz_test = roc_auc_score(y_test, y_score_test)\n",
    "\n",
    "    interp_tpr_test = np.interp(mean_fpr, fpr_test, tpr_test)\n",
    "    interp_tpr_test[0] = 0.0\n",
    "\n",
    "    tprs_test.append(interp_tpr_test)\n",
    "    aucs_test.append(viz_test)\n",
    "\n",
    "    ax.plot(fpr_test, tpr_test, lw=1, alpha=0.1, color=\"b\")\n",
    "\n",
    "accuracy_train = accuracy_train / n_splits\n",
    "accuracy_valid = accuracy_valid / n_splits\n",
    "accuracy_test = accuracy_test / n_splits\n",
    "print(\"Accuracy Train:\", accuracy_train)\n",
    "print(\"Accuracy Test:\", accuracy_test)\n",
    "print(\"Accuracy Valid:\", accuracy_valid)\n",
    "\n",
    "mean_tpr_train = np.mean(tprs_train, axis=0)\n",
    "mean_tpr_valid = np.mean(tprs_valid, axis=0)\n",
    "mean_tpr_test = np.mean(tprs_test, axis=0)\n",
    "\n",
    "mean_auc_train = auc(mean_fpr, mean_tpr_train)\n",
    "mean_auc_valid = auc(mean_fpr, mean_tpr_valid)\n",
    "mean_auc_test = auc(mean_fpr, mean_tpr_test)\n",
    "\n",
    "std_tpr_train = np.std(tprs_train, axis=0)\n",
    "tprs_upper_train = np.minimum(mean_tpr_train + std_tpr_train, 1)\n",
    "tprs_lower_train = np.maximum(mean_tpr_train - std_tpr_train, 0)\n",
    "\n",
    "std_tpr_valid = np.std(tprs_valid, axis=0)\n",
    "tprs_upper_valid = np.minimum(mean_tpr_valid + std_tpr_valid, 1)\n",
    "tprs_lower_valid = np.maximum(mean_tpr_valid - std_tpr_valid, 0)\n",
    "ax.fill_between(mean_fpr, tprs_lower_valid, tprs_upper_valid, color=\"r\", alpha=0.1)\n",
    "\n",
    "std_tpr_test = np.std(tprs_test, axis=0)\n",
    "tprs_upper_test = np.minimum(mean_tpr_test + std_tpr_test, 1)\n",
    "tprs_lower_test = np.maximum(mean_tpr_test - std_tpr_test, 0)\n",
    "ax.fill_between(mean_fpr, tprs_lower_test, tprs_upper_test, color=\"b\", alpha=0.1)\n",
    "\n",
    "ax.plot(mean_fpr, mean_tpr_test, color=\"b\", lw=2, alpha=0.8, label=r\"Test Mean ROC (AUC=%0.2f)\" % (mean_auc_test),)\n",
    "ax.plot(mean_fpr, mean_tpr_valid, color=\"r\", lw=2, alpha=0.8, label=r\"Valid Mean ROC (AUC=%0.2f)\" % (mean_auc_valid),)\n",
    "\n",
    "ax.set_xlim([-0.05, 1.05])\n",
    "ax.set_ylim([-0.05, 1.05])\n",
    "ax.set_xlabel(\"False Positive Rate\", fontsize=16)\n",
    "ax.set_ylabel(\"True Positive Rate\", fontsize=16)\n",
    "ax.set_title(\"34 cfRNA and scRNA genes \\nLS ROC\", fontsize=18)\n",
    "ax.legend(loc=\"lower right\")\n",
    "plt.savefig('cross_val_score_vs_features_LS.pdf', format='pdf', dpi=300, bbox_inches='tight')\n",
    "plt.show()"
   ]
  }
 ],
 "metadata": {
  "kernelspec": {
   "display_name": "sklearn37",
   "language": "python",
   "name": "sklearn37"
  },
  "language_info": {
   "codemirror_mode": {
    "name": "ipython",
    "version": 3
   },
   "file_extension": ".py",
   "mimetype": "text/x-python",
   "name": "python",
   "nbconvert_exporter": "python",
   "pygments_lexer": "ipython3",
   "version": "3.9.12"
  }
 },
 "nbformat": 4,
 "nbformat_minor": 5
}
